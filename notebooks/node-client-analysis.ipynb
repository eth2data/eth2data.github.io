{
 "cells": [
  {
   "cell_type": "markdown",
   "metadata": {},
   "source": [
    "## TLDR\n",
    "\n",
    "Sync times for Nodes:\n",
    "- Lighthouse: 0 days 05:27:12\n",
    "- Nimbus: 1 days 04:11:13.546000\n",
    "- Prysm: 0 days 08:27:16\n",
    "- Teku: 1 days 00:16:24"
   ]
  },
  {
   "cell_type": "code",
   "execution_count": 1,
   "metadata": {},
   "outputs": [],
   "source": [
    "import pandas as pd\n",
    "import numpy as np\n",
    "import matplotlib.pyplot as plt\n",
    "import seaborn as sns\n",
    "from functools import reduce\n",
    "import datetime\n",
    "\n",
    "sns.set()"
   ]
  },
  {
   "cell_type": "markdown",
   "metadata": {},
   "source": [
    "### Initial dataset load + sanity check"
   ]
  },
  {
   "cell_type": "code",
   "execution_count": 2,
   "metadata": {},
   "outputs": [
    {
     "data": {
      "text/html": [
       "<div>\n",
       "<style scoped>\n",
       "    .dataframe tbody tr th:only-of-type {\n",
       "        vertical-align: middle;\n",
       "    }\n",
       "\n",
       "    .dataframe tbody tr th {\n",
       "        vertical-align: top;\n",
       "    }\n",
       "\n",
       "    .dataframe thead th {\n",
       "        text-align: right;\n",
       "    }\n",
       "</style>\n",
       "<table border=\"1\" class=\"dataframe\">\n",
       "  <thead>\n",
       "    <tr style=\"text-align: right;\">\n",
       "      <th></th>\n",
       "      <th>datetime</th>\n",
       "      <th>est_time</th>\n",
       "      <th>speed</th>\n",
       "      <th>distance_in_slots</th>\n",
       "      <th>peers</th>\n",
       "    </tr>\n",
       "  </thead>\n",
       "  <tbody>\n",
       "    <tr>\n",
       "      <th>0</th>\n",
       "      <td>Oct 07 23:45:38</td>\n",
       "      <td>4 hrs 44 mins</td>\n",
       "      <td>speed: 26.69 slots/sec</td>\n",
       "      <td>456091</td>\n",
       "      <td>peers: 16</td>\n",
       "    </tr>\n",
       "    <tr>\n",
       "      <th>1</th>\n",
       "      <td>Oct 07 23:45:50</td>\n",
       "      <td>4 hrs 44 mins</td>\n",
       "      <td>speed: 26.67 slots/sec</td>\n",
       "      <td>455836</td>\n",
       "      <td>peers: 15</td>\n",
       "    </tr>\n",
       "    <tr>\n",
       "      <th>2</th>\n",
       "      <td>Oct 07 23:46:02</td>\n",
       "      <td>3 hrs 57 mins</td>\n",
       "      <td>speed: 32.00 slots/sec</td>\n",
       "      <td>455325</td>\n",
       "      <td>peers: 22</td>\n",
       "    </tr>\n",
       "    <tr>\n",
       "      <th>3</th>\n",
       "      <td>Oct 07 23:46:14</td>\n",
       "      <td>4 hrs 44 mins</td>\n",
       "      <td>speed: 26.69 slots/sec</td>\n",
       "      <td>455070</td>\n",
       "      <td>peers: 20</td>\n",
       "    </tr>\n",
       "    <tr>\n",
       "      <th>4</th>\n",
       "      <td>Oct 07 23:46:26</td>\n",
       "      <td>4 hrs 44 mins</td>\n",
       "      <td>speed: 26.67 slots/sec</td>\n",
       "      <td>454815</td>\n",
       "      <td>peers: 19</td>\n",
       "    </tr>\n",
       "  </tbody>\n",
       "</table>\n",
       "</div>"
      ],
      "text/plain": [
       "          datetime        est_time                    speed distance_in_slots  \\\n",
       "0  Oct 07 23:45:38   4 hrs 44 mins   speed: 26.69 slots/sec            456091   \n",
       "1  Oct 07 23:45:50   4 hrs 44 mins   speed: 26.67 slots/sec            455836   \n",
       "2  Oct 07 23:46:02   3 hrs 57 mins   speed: 32.00 slots/sec            455325   \n",
       "3  Oct 07 23:46:14   4 hrs 44 mins   speed: 26.69 slots/sec            455070   \n",
       "4  Oct 07 23:46:26   4 hrs 44 mins   speed: 26.67 slots/sec            454815   \n",
       "\n",
       "        peers  \n",
       "0   peers: 16  \n",
       "1   peers: 15  \n",
       "2   peers: 22  \n",
       "3   peers: 20  \n",
       "4   peers: 19  "
      ]
     },
     "execution_count": 2,
     "metadata": {},
     "output_type": "execute_result"
    }
   ],
   "source": [
    "df_lighthouse = pd.read_csv('./logs/lighthouse/cleaned_lighthouse_sync_log.csv')\n",
    "df_lighthouse.head()"
   ]
  },
  {
   "cell_type": "code",
   "execution_count": 3,
   "metadata": {},
   "outputs": [
    {
     "data": {
      "text/html": [
       "<div>\n",
       "<style scoped>\n",
       "    .dataframe tbody tr th:only-of-type {\n",
       "        vertical-align: middle;\n",
       "    }\n",
       "\n",
       "    .dataframe tbody tr th {\n",
       "        vertical-align: top;\n",
       "    }\n",
       "\n",
       "    .dataframe thead th {\n",
       "        text-align: right;\n",
       "    }\n",
       "</style>\n",
       "<table border=\"1\" class=\"dataframe\">\n",
       "  <thead>\n",
       "    <tr style=\"text-align: right;\">\n",
       "      <th></th>\n",
       "      <th>ts</th>\n",
       "      <th>msg</th>\n",
       "      <th>scheduledSlot</th>\n",
       "      <th>peers</th>\n",
       "      <th>headEpoch</th>\n",
       "      <th>finalizedEpoch</th>\n",
       "      <th>slot</th>\n",
       "    </tr>\n",
       "  </thead>\n",
       "  <tbody>\n",
       "    <tr>\n",
       "      <th>0</th>\n",
       "      <td>2020-10-10 00:07:08.001+00:00</td>\n",
       "      <td>Slot start</td>\n",
       "      <td>478535.0</td>\n",
       "      <td>6.0</td>\n",
       "      <td>13827.0</td>\n",
       "      <td>13824.0</td>\n",
       "      <td>NaN</td>\n",
       "    </tr>\n",
       "    <tr>\n",
       "      <th>1</th>\n",
       "      <td>2020-10-10 00:07:08.017+00:00</td>\n",
       "      <td>Slot end</td>\n",
       "      <td>NaN</td>\n",
       "      <td>NaN</td>\n",
       "      <td>13827.0</td>\n",
       "      <td>13824.0</td>\n",
       "      <td>478535.0</td>\n",
       "    </tr>\n",
       "    <tr>\n",
       "      <th>2</th>\n",
       "      <td>2020-10-10 00:07:09.764+00:00</td>\n",
       "      <td>Syncing process is not progressing, reset the ...</td>\n",
       "      <td>NaN</td>\n",
       "      <td>NaN</td>\n",
       "      <td>NaN</td>\n",
       "      <td>NaN</td>\n",
       "      <td>NaN</td>\n",
       "    </tr>\n",
       "    <tr>\n",
       "      <th>3</th>\n",
       "      <td>2020-10-10 00:07:20.023+00:00</td>\n",
       "      <td>Slot start</td>\n",
       "      <td>478536.0</td>\n",
       "      <td>7.0</td>\n",
       "      <td>13827.0</td>\n",
       "      <td>13824.0</td>\n",
       "      <td>NaN</td>\n",
       "    </tr>\n",
       "    <tr>\n",
       "      <th>4</th>\n",
       "      <td>2020-10-10 00:07:20.032+00:00</td>\n",
       "      <td>Slot end</td>\n",
       "      <td>NaN</td>\n",
       "      <td>NaN</td>\n",
       "      <td>13827.0</td>\n",
       "      <td>13824.0</td>\n",
       "      <td>478536.0</td>\n",
       "    </tr>\n",
       "  </tbody>\n",
       "</table>\n",
       "</div>"
      ],
      "text/plain": [
       "                              ts  \\\n",
       "0  2020-10-10 00:07:08.001+00:00   \n",
       "1  2020-10-10 00:07:08.017+00:00   \n",
       "2  2020-10-10 00:07:09.764+00:00   \n",
       "3  2020-10-10 00:07:20.023+00:00   \n",
       "4  2020-10-10 00:07:20.032+00:00   \n",
       "\n",
       "                                                 msg  scheduledSlot  peers  \\\n",
       "0                                         Slot start       478535.0    6.0   \n",
       "1                                           Slot end            NaN    NaN   \n",
       "2  Syncing process is not progressing, reset the ...            NaN    NaN   \n",
       "3                                         Slot start       478536.0    7.0   \n",
       "4                                           Slot end            NaN    NaN   \n",
       "\n",
       "   headEpoch  finalizedEpoch      slot  \n",
       "0    13827.0         13824.0       NaN  \n",
       "1    13827.0         13824.0  478535.0  \n",
       "2        NaN             NaN       NaN  \n",
       "3    13827.0         13824.0       NaN  \n",
       "4    13827.0         13824.0  478536.0  "
      ]
     },
     "execution_count": 3,
     "metadata": {},
     "output_type": "execute_result"
    }
   ],
   "source": [
    "df_nimbus = pd.read_csv('./logs/nimbus/cleaned_nimbus_sync_log.csv')\n",
    "df_nimbus.head()"
   ]
  },
  {
   "cell_type": "code",
   "execution_count": 4,
   "metadata": {},
   "outputs": [
    {
     "data": {
      "text/html": [
       "<div>\n",
       "<style scoped>\n",
       "    .dataframe tbody tr th:only-of-type {\n",
       "        vertical-align: middle;\n",
       "    }\n",
       "\n",
       "    .dataframe tbody tr th {\n",
       "        vertical-align: top;\n",
       "    }\n",
       "\n",
       "    .dataframe thead th {\n",
       "        text-align: right;\n",
       "    }\n",
       "</style>\n",
       "<table border=\"1\" class=\"dataframe\">\n",
       "  <thead>\n",
       "    <tr style=\"text-align: right;\">\n",
       "      <th></th>\n",
       "      <th>activePeers</th>\n",
       "      <th>direction</th>\n",
       "      <th>level</th>\n",
       "      <th>msg</th>\n",
       "      <th>current_slot</th>\n",
       "      <th>max_slot</th>\n",
       "      <th>estimated_time_remaining</th>\n",
       "      <th>multiAddr</th>\n",
       "      <th>prefix</th>\n",
       "      <th>time</th>\n",
       "      <th>required</th>\n",
       "      <th>suitable</th>\n",
       "      <th>blocksPerSecond</th>\n",
       "      <th>peers</th>\n",
       "      <th>root</th>\n",
       "      <th>slot</th>\n",
       "    </tr>\n",
       "  </thead>\n",
       "  <tbody>\n",
       "    <tr>\n",
       "      <th>0</th>\n",
       "      <td>3.0</td>\n",
       "      <td>2.0</td>\n",
       "      <td>info</td>\n",
       "      <td>Peer connected</td>\n",
       "      <td>NaN</td>\n",
       "      <td>NaN</td>\n",
       "      <td>NaN</td>\n",
       "      <td>/ip4/206.189.196.155/tcp/9000/p2p/16Uiu2HAm2c7...</td>\n",
       "      <td>p2p</td>\n",
       "      <td>2020-10-07T14:11:03Z</td>\n",
       "      <td>NaN</td>\n",
       "      <td>NaN</td>\n",
       "      <td>NaN</td>\n",
       "      <td>NaN</td>\n",
       "      <td>NaN</td>\n",
       "      <td>NaN</td>\n",
       "    </tr>\n",
       "    <tr>\n",
       "      <th>1</th>\n",
       "      <td>NaN</td>\n",
       "      <td>NaN</td>\n",
       "      <td>info</td>\n",
       "      <td>Waiting for enough suitable peers before syncing</td>\n",
       "      <td>NaN</td>\n",
       "      <td>NaN</td>\n",
       "      <td>NaN</td>\n",
       "      <td>NaN</td>\n",
       "      <td>initial-sync</td>\n",
       "      <td>2020-10-07T14:11:07Z</td>\n",
       "      <td>3.0</td>\n",
       "      <td>1.0</td>\n",
       "      <td>NaN</td>\n",
       "      <td>NaN</td>\n",
       "      <td>NaN</td>\n",
       "      <td>NaN</td>\n",
       "    </tr>\n",
       "    <tr>\n",
       "      <th>2</th>\n",
       "      <td>5.0</td>\n",
       "      <td>2.0</td>\n",
       "      <td>info</td>\n",
       "      <td>Peer connected</td>\n",
       "      <td>NaN</td>\n",
       "      <td>NaN</td>\n",
       "      <td>NaN</td>\n",
       "      <td>/ip4/159.203.165.140/tcp/9000/p2p/16Uiu2HAm6n5...</td>\n",
       "      <td>p2p</td>\n",
       "      <td>2020-10-07T14:11:08Z</td>\n",
       "      <td>NaN</td>\n",
       "      <td>NaN</td>\n",
       "      <td>NaN</td>\n",
       "      <td>NaN</td>\n",
       "      <td>NaN</td>\n",
       "      <td>NaN</td>\n",
       "    </tr>\n",
       "    <tr>\n",
       "      <th>3</th>\n",
       "      <td>5.0</td>\n",
       "      <td>2.0</td>\n",
       "      <td>info</td>\n",
       "      <td>Peer connected</td>\n",
       "      <td>NaN</td>\n",
       "      <td>NaN</td>\n",
       "      <td>NaN</td>\n",
       "      <td>/ip4/3.132.193.49/tcp/9000/p2p/16Uiu2HAmDozn3k...</td>\n",
       "      <td>p2p</td>\n",
       "      <td>2020-10-07T14:11:08Z</td>\n",
       "      <td>NaN</td>\n",
       "      <td>NaN</td>\n",
       "      <td>NaN</td>\n",
       "      <td>NaN</td>\n",
       "      <td>NaN</td>\n",
       "      <td>NaN</td>\n",
       "    </tr>\n",
       "    <tr>\n",
       "      <th>4</th>\n",
       "      <td>5.0</td>\n",
       "      <td>2.0</td>\n",
       "      <td>info</td>\n",
       "      <td>Peer connected</td>\n",
       "      <td>NaN</td>\n",
       "      <td>NaN</td>\n",
       "      <td>NaN</td>\n",
       "      <td>/ip4/101.179.14.213/tcp/9000/p2p/16Uiu2HAkyCHS...</td>\n",
       "      <td>p2p</td>\n",
       "      <td>2020-10-07T14:11:09Z</td>\n",
       "      <td>NaN</td>\n",
       "      <td>NaN</td>\n",
       "      <td>NaN</td>\n",
       "      <td>NaN</td>\n",
       "      <td>NaN</td>\n",
       "      <td>NaN</td>\n",
       "    </tr>\n",
       "  </tbody>\n",
       "</table>\n",
       "</div>"
      ],
      "text/plain": [
       "   activePeers  direction level  \\\n",
       "0          3.0        2.0  info   \n",
       "1          NaN        NaN  info   \n",
       "2          5.0        2.0  info   \n",
       "3          5.0        2.0  info   \n",
       "4          5.0        2.0  info   \n",
       "\n",
       "                                                msg  current_slot  max_slot  \\\n",
       "0                                    Peer connected           NaN       NaN   \n",
       "1  Waiting for enough suitable peers before syncing           NaN       NaN   \n",
       "2                                    Peer connected           NaN       NaN   \n",
       "3                                    Peer connected           NaN       NaN   \n",
       "4                                    Peer connected           NaN       NaN   \n",
       "\n",
       "  estimated_time_remaining                                          multiAddr  \\\n",
       "0                      NaN  /ip4/206.189.196.155/tcp/9000/p2p/16Uiu2HAm2c7...   \n",
       "1                      NaN                                                NaN   \n",
       "2                      NaN  /ip4/159.203.165.140/tcp/9000/p2p/16Uiu2HAm6n5...   \n",
       "3                      NaN  /ip4/3.132.193.49/tcp/9000/p2p/16Uiu2HAmDozn3k...   \n",
       "4                      NaN  /ip4/101.179.14.213/tcp/9000/p2p/16Uiu2HAkyCHS...   \n",
       "\n",
       "         prefix                  time  required  suitable  blocksPerSecond  \\\n",
       "0           p2p  2020-10-07T14:11:03Z       NaN       NaN              NaN   \n",
       "1  initial-sync  2020-10-07T14:11:07Z       3.0       1.0              NaN   \n",
       "2           p2p  2020-10-07T14:11:08Z       NaN       NaN              NaN   \n",
       "3           p2p  2020-10-07T14:11:08Z       NaN       NaN              NaN   \n",
       "4           p2p  2020-10-07T14:11:09Z       NaN       NaN              NaN   \n",
       "\n",
       "   peers root  slot  \n",
       "0    NaN  NaN   NaN  \n",
       "1    NaN  NaN   NaN  \n",
       "2    NaN  NaN   NaN  \n",
       "3    NaN  NaN   NaN  \n",
       "4    NaN  NaN   NaN  "
      ]
     },
     "execution_count": 4,
     "metadata": {},
     "output_type": "execute_result"
    }
   ],
   "source": [
    "df_prysm = pd.read_csv('./logs/prysm/cleaned_prysm_sync_log.csv')\n",
    "df_prysm.head()"
   ]
  },
  {
   "cell_type": "code",
   "execution_count": 5,
   "metadata": {},
   "outputs": [
    {
     "data": {
      "text/html": [
       "<div>\n",
       "<style scoped>\n",
       "    .dataframe tbody tr th:only-of-type {\n",
       "        vertical-align: middle;\n",
       "    }\n",
       "\n",
       "    .dataframe tbody tr th {\n",
       "        vertical-align: top;\n",
       "    }\n",
       "\n",
       "    .dataframe thead th {\n",
       "        text-align: right;\n",
       "    }\n",
       "</style>\n",
       "<table border=\"1\" class=\"dataframe\">\n",
       "  <thead>\n",
       "    <tr style=\"text-align: right;\">\n",
       "      <th></th>\n",
       "      <th>datetime</th>\n",
       "      <th>current_slot</th>\n",
       "      <th>head_slot</th>\n",
       "      <th>connected_peer</th>\n",
       "    </tr>\n",
       "  </thead>\n",
       "  <tbody>\n",
       "    <tr>\n",
       "      <th>0</th>\n",
       "      <td>Oct-11 23:10:56</td>\n",
       "      <td>492654.0</td>\n",
       "      <td>46.0</td>\n",
       "      <td>7.0</td>\n",
       "    </tr>\n",
       "    <tr>\n",
       "      <th>1</th>\n",
       "      <td>Oct-11 23:11:08</td>\n",
       "      <td>492655.0</td>\n",
       "      <td>210.0</td>\n",
       "      <td>7.0</td>\n",
       "    </tr>\n",
       "    <tr>\n",
       "      <th>2</th>\n",
       "      <td>Oct-11 23:11:21</td>\n",
       "      <td>492656.0</td>\n",
       "      <td>352.0</td>\n",
       "      <td>6.0</td>\n",
       "    </tr>\n",
       "    <tr>\n",
       "      <th>3</th>\n",
       "      <td>Oct-11 23:11:32</td>\n",
       "      <td>492657.0</td>\n",
       "      <td>448.0</td>\n",
       "      <td>5.0</td>\n",
       "    </tr>\n",
       "    <tr>\n",
       "      <th>4</th>\n",
       "      <td>Oct-11 23:11:44</td>\n",
       "      <td>492658.0</td>\n",
       "      <td>576.0</td>\n",
       "      <td>4.0</td>\n",
       "    </tr>\n",
       "  </tbody>\n",
       "</table>\n",
       "</div>"
      ],
      "text/plain": [
       "          datetime  current_slot  head_slot  connected_peer\n",
       "0  Oct-11 23:10:56      492654.0       46.0             7.0\n",
       "1  Oct-11 23:11:08      492655.0      210.0             7.0\n",
       "2  Oct-11 23:11:21      492656.0      352.0             6.0\n",
       "3  Oct-11 23:11:32      492657.0      448.0             5.0\n",
       "4  Oct-11 23:11:44      492658.0      576.0             4.0"
      ]
     },
     "execution_count": 5,
     "metadata": {},
     "output_type": "execute_result"
    }
   ],
   "source": [
    "df_teku = pd.read_csv('./logs/teku/cleaned_teku_sync_log.csv')\n",
    "df_teku.head()"
   ]
  },
  {
   "cell_type": "markdown",
   "metadata": {},
   "source": [
    "### Lighthouse"
   ]
  },
  {
   "cell_type": "code",
   "execution_count": 6,
   "metadata": {},
   "outputs": [
    {
     "data": {
      "text/html": [
       "<div>\n",
       "<style scoped>\n",
       "    .dataframe tbody tr th:only-of-type {\n",
       "        vertical-align: middle;\n",
       "    }\n",
       "\n",
       "    .dataframe tbody tr th {\n",
       "        vertical-align: top;\n",
       "    }\n",
       "\n",
       "    .dataframe thead th {\n",
       "        text-align: right;\n",
       "    }\n",
       "</style>\n",
       "<table border=\"1\" class=\"dataframe\">\n",
       "  <thead>\n",
       "    <tr style=\"text-align: right;\">\n",
       "      <th></th>\n",
       "      <th>datetime</th>\n",
       "      <th>est_time</th>\n",
       "      <th>speed</th>\n",
       "      <th>distance_in_slots</th>\n",
       "      <th>peers</th>\n",
       "    </tr>\n",
       "  </thead>\n",
       "  <tbody>\n",
       "    <tr>\n",
       "      <th>0</th>\n",
       "      <td>2020-10-07 23:45:38</td>\n",
       "      <td>4 hrs 44 mins</td>\n",
       "      <td>speed: 26.69 slots/sec</td>\n",
       "      <td>456091</td>\n",
       "      <td>peers: 16</td>\n",
       "    </tr>\n",
       "    <tr>\n",
       "      <th>1</th>\n",
       "      <td>2020-10-07 23:45:50</td>\n",
       "      <td>4 hrs 44 mins</td>\n",
       "      <td>speed: 26.67 slots/sec</td>\n",
       "      <td>455836</td>\n",
       "      <td>peers: 15</td>\n",
       "    </tr>\n",
       "    <tr>\n",
       "      <th>2</th>\n",
       "      <td>2020-10-07 23:46:02</td>\n",
       "      <td>3 hrs 57 mins</td>\n",
       "      <td>speed: 32.00 slots/sec</td>\n",
       "      <td>455325</td>\n",
       "      <td>peers: 22</td>\n",
       "    </tr>\n",
       "    <tr>\n",
       "      <th>3</th>\n",
       "      <td>2020-10-07 23:46:14</td>\n",
       "      <td>4 hrs 44 mins</td>\n",
       "      <td>speed: 26.69 slots/sec</td>\n",
       "      <td>455070</td>\n",
       "      <td>peers: 20</td>\n",
       "    </tr>\n",
       "    <tr>\n",
       "      <th>4</th>\n",
       "      <td>2020-10-07 23:46:26</td>\n",
       "      <td>4 hrs 44 mins</td>\n",
       "      <td>speed: 26.67 slots/sec</td>\n",
       "      <td>454815</td>\n",
       "      <td>peers: 19</td>\n",
       "    </tr>\n",
       "  </tbody>\n",
       "</table>\n",
       "</div>"
      ],
      "text/plain": [
       "             datetime        est_time                    speed  \\\n",
       "0 2020-10-07 23:45:38   4 hrs 44 mins   speed: 26.69 slots/sec   \n",
       "1 2020-10-07 23:45:50   4 hrs 44 mins   speed: 26.67 slots/sec   \n",
       "2 2020-10-07 23:46:02   3 hrs 57 mins   speed: 32.00 slots/sec   \n",
       "3 2020-10-07 23:46:14   4 hrs 44 mins   speed: 26.69 slots/sec   \n",
       "4 2020-10-07 23:46:26   4 hrs 44 mins   speed: 26.67 slots/sec   \n",
       "\n",
       "  distance_in_slots       peers  \n",
       "0            456091   peers: 16  \n",
       "1            455836   peers: 15  \n",
       "2            455325   peers: 22  \n",
       "3            455070   peers: 20  \n",
       "4            454815   peers: 19  "
      ]
     },
     "execution_count": 6,
     "metadata": {},
     "output_type": "execute_result"
    }
   ],
   "source": [
    "df_lighthouse['datetime'] =  pd.to_datetime(('2020 ' + df_lighthouse['datetime']), format='%Y %b %d %H:%M:%S')\n",
    "df_lighthouse.head()"
   ]
  },
  {
   "cell_type": "code",
   "execution_count": 7,
   "metadata": {},
   "outputs": [
    {
     "data": {
      "text/plain": [
       "(1627, 5)"
      ]
     },
     "execution_count": 7,
     "metadata": {},
     "output_type": "execute_result"
    }
   ],
   "source": [
    "df_lighthouse_parsed = df_lighthouse[df_lighthouse['est_time'].str.contains('mins')]\n",
    "df_lighthouse_parsed.head()\n",
    "df_lighthouse_parsed.shape"
   ]
  },
  {
   "cell_type": "code",
   "execution_count": 8,
   "metadata": {},
   "outputs": [
    {
     "name": "stdout",
     "output_type": "stream",
     "text": [
      "0 days 05:27:12\n"
     ]
    }
   ],
   "source": [
    "total_sync_time_lighthouse = df_lighthouse_parsed['datetime'].max() - df_lighthouse_parsed['datetime'].min()\n",
    "print(total_sync_time_lighthouse)"
   ]
  },
  {
   "cell_type": "code",
   "execution_count": 9,
   "metadata": {},
   "outputs": [
    {
     "data": {
      "text/html": [
       "<div>\n",
       "<style scoped>\n",
       "    .dataframe tbody tr th:only-of-type {\n",
       "        vertical-align: middle;\n",
       "    }\n",
       "\n",
       "    .dataframe tbody tr th {\n",
       "        vertical-align: top;\n",
       "    }\n",
       "\n",
       "    .dataframe thead th {\n",
       "        text-align: right;\n",
       "    }\n",
       "</style>\n",
       "<table border=\"1\" class=\"dataframe\">\n",
       "  <thead>\n",
       "    <tr style=\"text-align: right;\">\n",
       "      <th></th>\n",
       "      <th>datetime</th>\n",
       "      <th>est_time</th>\n",
       "      <th>speed</th>\n",
       "      <th>distance_in_slots</th>\n",
       "      <th>peers</th>\n",
       "    </tr>\n",
       "  </thead>\n",
       "  <tbody>\n",
       "    <tr>\n",
       "      <th>1633</th>\n",
       "      <td>2020-10-08 05:12:50</td>\n",
       "      <td>0 mins</td>\n",
       "      <td>speed: 15.96 slots/sec</td>\n",
       "      <td>161</td>\n",
       "      <td>peers: 26</td>\n",
       "    </tr>\n",
       "  </tbody>\n",
       "</table>\n",
       "</div>"
      ],
      "text/plain": [
       "                datetime est_time                    speed distance_in_slots  \\\n",
       "1633 2020-10-08 05:12:50   0 mins   speed: 15.96 slots/sec               161   \n",
       "\n",
       "           peers  \n",
       "1633   peers: 26  "
      ]
     },
     "execution_count": 9,
     "metadata": {},
     "output_type": "execute_result"
    }
   ],
   "source": [
    "##sanity check max time row\n",
    "df_lighthouse_parsed[df_lighthouse_parsed['datetime'] == df_lighthouse_parsed['datetime'].max()]"
   ]
  },
  {
   "cell_type": "code",
   "execution_count": 10,
   "metadata": {},
   "outputs": [
    {
     "data": {
      "text/html": [
       "<div>\n",
       "<style scoped>\n",
       "    .dataframe tbody tr th:only-of-type {\n",
       "        vertical-align: middle;\n",
       "    }\n",
       "\n",
       "    .dataframe tbody tr th {\n",
       "        vertical-align: top;\n",
       "    }\n",
       "\n",
       "    .dataframe thead th {\n",
       "        text-align: right;\n",
       "    }\n",
       "</style>\n",
       "<table border=\"1\" class=\"dataframe\">\n",
       "  <thead>\n",
       "    <tr style=\"text-align: right;\">\n",
       "      <th></th>\n",
       "      <th>datetime</th>\n",
       "      <th>est_time</th>\n",
       "      <th>speed</th>\n",
       "      <th>distance_in_slots</th>\n",
       "      <th>peers</th>\n",
       "    </tr>\n",
       "  </thead>\n",
       "  <tbody>\n",
       "    <tr>\n",
       "      <th>0</th>\n",
       "      <td>2020-10-07 23:45:38</td>\n",
       "      <td>4 hrs 44 mins</td>\n",
       "      <td>speed: 26.69 slots/sec</td>\n",
       "      <td>456091</td>\n",
       "      <td>peers: 16</td>\n",
       "    </tr>\n",
       "  </tbody>\n",
       "</table>\n",
       "</div>"
      ],
      "text/plain": [
       "             datetime        est_time                    speed  \\\n",
       "0 2020-10-07 23:45:38   4 hrs 44 mins   speed: 26.69 slots/sec   \n",
       "\n",
       "  distance_in_slots       peers  \n",
       "0            456091   peers: 16  "
      ]
     },
     "execution_count": 10,
     "metadata": {},
     "output_type": "execute_result"
    }
   ],
   "source": [
    "##sanity check min time row\n",
    "df_lighthouse_parsed[df_lighthouse_parsed['datetime'] == df_lighthouse_parsed['datetime'].min()]"
   ]
  },
  {
   "cell_type": "code",
   "execution_count": 11,
   "metadata": {},
   "outputs": [
    {
     "name": "stderr",
     "output_type": "stream",
     "text": [
      "/Users/sidshekhar/opt/anaconda3/envs/datasci/lib/python3.8/site-packages/pandas/core/indexing.py:1745: SettingWithCopyWarning: \n",
      "A value is trying to be set on a copy of a slice from a DataFrame.\n",
      "Try using .loc[row_indexer,col_indexer] = value instead\n",
      "\n",
      "See the caveats in the documentation: https://pandas.pydata.org/pandas-docs/stable/user_guide/indexing.html#returning-a-view-versus-a-copy\n",
      "  isetter(ilocs[0], value)\n"
     ]
    },
    {
     "data": {
      "text/plain": [
       "161"
      ]
     },
     "execution_count": 11,
     "metadata": {},
     "output_type": "execute_result"
    }
   ],
   "source": [
    "df_lighthouse_parsed.loc[:,'distance_in_slots'] = pd.to_numeric(df_lighthouse_parsed.loc[:,'distance_in_slots'])\n",
    "df_lighthouse_parsed['distance_in_slots'].min()"
   ]
  },
  {
   "cell_type": "code",
   "execution_count": 12,
   "metadata": {},
   "outputs": [
    {
     "name": "stderr",
     "output_type": "stream",
     "text": [
      "<ipython-input-12-5f780e45770c>:1: SettingWithCopyWarning: \n",
      "A value is trying to be set on a copy of a slice from a DataFrame.\n",
      "Try using .loc[row_indexer,col_indexer] = value instead\n",
      "\n",
      "See the caveats in the documentation: https://pandas.pydata.org/pandas-docs/stable/user_guide/indexing.html#returning-a-view-versus-a-copy\n",
      "  df_lighthouse_parsed['current_slot'] = df_lighthouse_parsed['distance_in_slots'].max() - df_lighthouse_parsed['distance_in_slots']\n",
      "<ipython-input-12-5f780e45770c>:2: SettingWithCopyWarning: \n",
      "A value is trying to be set on a copy of a slice from a DataFrame.\n",
      "Try using .loc[row_indexer,col_indexer] = value instead\n",
      "\n",
      "See the caveats in the documentation: https://pandas.pydata.org/pandas-docs/stable/user_guide/indexing.html#returning-a-view-versus-a-copy\n",
      "  df_lighthouse_parsed['time_elapsed'] = df_lighthouse_parsed['datetime'] - df_lighthouse_parsed['datetime'].min()\n"
     ]
    },
    {
     "data": {
      "text/plain": [
       "Text(0.5, 1.0, 'Lighthouse Sync Progress')"
      ]
     },
     "execution_count": 12,
     "metadata": {},
     "output_type": "execute_result"
    },
    {
     "data": {
      "image/png": "[encoded data removed]",
      "text/plain": [
       "<Figure size 432x288 with 1 Axes>"
      ]
     },
     "metadata": {},
     "output_type": "display_data"
    }
   ],
   "source": [
    "df_lighthouse_parsed['current_slot'] = df_lighthouse_parsed['distance_in_slots'].max() - df_lighthouse_parsed['distance_in_slots']\n",
    "df_lighthouse_parsed['time_elapsed'] = df_lighthouse_parsed['datetime'] - df_lighthouse_parsed['datetime'].min()\n",
    "df_lighthouse_parsed.plot(x='time_elapsed', y='current_slot', legend=False, ylabel='slot')\n",
    "plt.title('Lighthouse Sync Progress')"
   ]
  },
  {
   "cell_type": "markdown",
   "metadata": {},
   "source": [
    "### Nimbus"
   ]
  },
  {
   "cell_type": "code",
   "execution_count": 13,
   "metadata": {},
   "outputs": [
    {
     "data": {
      "text/html": [
       "<div>\n",
       "<style scoped>\n",
       "    .dataframe tbody tr th:only-of-type {\n",
       "        vertical-align: middle;\n",
       "    }\n",
       "\n",
       "    .dataframe tbody tr th {\n",
       "        vertical-align: top;\n",
       "    }\n",
       "\n",
       "    .dataframe thead th {\n",
       "        text-align: right;\n",
       "    }\n",
       "</style>\n",
       "<table border=\"1\" class=\"dataframe\">\n",
       "  <thead>\n",
       "    <tr style=\"text-align: right;\">\n",
       "      <th></th>\n",
       "      <th>ts</th>\n",
       "      <th>msg</th>\n",
       "      <th>scheduledSlot</th>\n",
       "      <th>peers</th>\n",
       "      <th>headEpoch</th>\n",
       "      <th>finalizedEpoch</th>\n",
       "      <th>slot</th>\n",
       "    </tr>\n",
       "  </thead>\n",
       "  <tbody>\n",
       "    <tr>\n",
       "      <th>0</th>\n",
       "      <td>2020-10-10 00:07:08.001000+00:00</td>\n",
       "      <td>Slot start</td>\n",
       "      <td>478535.0</td>\n",
       "      <td>6.0</td>\n",
       "      <td>13827.0</td>\n",
       "      <td>13824.0</td>\n",
       "      <td>NaN</td>\n",
       "    </tr>\n",
       "    <tr>\n",
       "      <th>1</th>\n",
       "      <td>2020-10-10 00:07:08.017000+00:00</td>\n",
       "      <td>Slot end</td>\n",
       "      <td>NaN</td>\n",
       "      <td>NaN</td>\n",
       "      <td>13827.0</td>\n",
       "      <td>13824.0</td>\n",
       "      <td>478535.0</td>\n",
       "    </tr>\n",
       "    <tr>\n",
       "      <th>2</th>\n",
       "      <td>2020-10-10 00:07:09.764000+00:00</td>\n",
       "      <td>Syncing process is not progressing, reset the ...</td>\n",
       "      <td>NaN</td>\n",
       "      <td>NaN</td>\n",
       "      <td>NaN</td>\n",
       "      <td>NaN</td>\n",
       "      <td>NaN</td>\n",
       "    </tr>\n",
       "    <tr>\n",
       "      <th>3</th>\n",
       "      <td>2020-10-10 00:07:20.023000+00:00</td>\n",
       "      <td>Slot start</td>\n",
       "      <td>478536.0</td>\n",
       "      <td>7.0</td>\n",
       "      <td>13827.0</td>\n",
       "      <td>13824.0</td>\n",
       "      <td>NaN</td>\n",
       "    </tr>\n",
       "    <tr>\n",
       "      <th>4</th>\n",
       "      <td>2020-10-10 00:07:20.032000+00:00</td>\n",
       "      <td>Slot end</td>\n",
       "      <td>NaN</td>\n",
       "      <td>NaN</td>\n",
       "      <td>13827.0</td>\n",
       "      <td>13824.0</td>\n",
       "      <td>478536.0</td>\n",
       "    </tr>\n",
       "  </tbody>\n",
       "</table>\n",
       "</div>"
      ],
      "text/plain": [
       "                                ts  \\\n",
       "0 2020-10-10 00:07:08.001000+00:00   \n",
       "1 2020-10-10 00:07:08.017000+00:00   \n",
       "2 2020-10-10 00:07:09.764000+00:00   \n",
       "3 2020-10-10 00:07:20.023000+00:00   \n",
       "4 2020-10-10 00:07:20.032000+00:00   \n",
       "\n",
       "                                                 msg  scheduledSlot  peers  \\\n",
       "0                                         Slot start       478535.0    6.0   \n",
       "1                                           Slot end            NaN    NaN   \n",
       "2  Syncing process is not progressing, reset the ...            NaN    NaN   \n",
       "3                                         Slot start       478536.0    7.0   \n",
       "4                                           Slot end            NaN    NaN   \n",
       "\n",
       "   headEpoch  finalizedEpoch      slot  \n",
       "0    13827.0         13824.0       NaN  \n",
       "1    13827.0         13824.0  478535.0  \n",
       "2        NaN             NaN       NaN  \n",
       "3    13827.0         13824.0       NaN  \n",
       "4    13827.0         13824.0  478536.0  "
      ]
     },
     "execution_count": 13,
     "metadata": {},
     "output_type": "execute_result"
    }
   ],
   "source": [
    "df_nimbus['ts'] =  pd.to_datetime(df_nimbus['ts'])\n",
    "df_nimbus.head()"
   ]
  },
  {
   "cell_type": "code",
   "execution_count": 14,
   "metadata": {},
   "outputs": [
    {
     "data": {
      "text/plain": [
       "260"
      ]
     },
     "execution_count": 14,
     "metadata": {},
     "output_type": "execute_result"
    }
   ],
   "source": [
    "## Number of times syncing progress not progressing and queue had to be reset\n",
    "\n",
    "df_nimbus[df_nimbus['msg'].str.contains('Syncing process is not progressing')].shape[0]\n"
   ]
  },
  {
   "cell_type": "code",
   "execution_count": 15,
   "metadata": {},
   "outputs": [
    {
     "data": {
      "text/plain": [
       "Timestamp('2020-10-10 04:17:57.546000+0000', tz='UTC')"
      ]
     },
     "execution_count": 15,
     "metadata": {},
     "output_type": "execute_result"
    }
   ],
   "source": [
    "df_nimbus['ts'].max()"
   ]
  },
  {
   "cell_type": "code",
   "execution_count": 16,
   "metadata": {},
   "outputs": [
    {
     "data": {
      "text/plain": [
       "Timestamp('2020-10-09 00:06:44+0000', tz='UTC')"
      ]
     },
     "execution_count": 16,
     "metadata": {},
     "output_type": "execute_result"
    }
   ],
   "source": [
    "df_nimbus['ts'].min()"
   ]
  },
  {
   "cell_type": "code",
   "execution_count": 17,
   "metadata": {},
   "outputs": [
    {
     "name": "stdout",
     "output_type": "stream",
     "text": [
      "1 days 04:11:13.546000\n"
     ]
    }
   ],
   "source": [
    "total_sync_time_nimbus = df_nimbus['ts'].max() - df_nimbus['ts'].min()\n",
    "print(total_sync_time_nimbus)"
   ]
  },
  {
   "cell_type": "code",
   "execution_count": 18,
   "metadata": {},
   "outputs": [
    {
     "data": {
      "text/html": [
       "<div>\n",
       "<style scoped>\n",
       "    .dataframe tbody tr th:only-of-type {\n",
       "        vertical-align: middle;\n",
       "    }\n",
       "\n",
       "    .dataframe tbody tr th {\n",
       "        vertical-align: top;\n",
       "    }\n",
       "\n",
       "    .dataframe thead th {\n",
       "        text-align: right;\n",
       "    }\n",
       "</style>\n",
       "<table border=\"1\" class=\"dataframe\">\n",
       "  <thead>\n",
       "    <tr style=\"text-align: right;\">\n",
       "      <th></th>\n",
       "      <th>ts</th>\n",
       "      <th>msg</th>\n",
       "      <th>scheduledSlot</th>\n",
       "      <th>peers</th>\n",
       "      <th>headEpoch</th>\n",
       "      <th>finalizedEpoch</th>\n",
       "      <th>slot</th>\n",
       "    </tr>\n",
       "  </thead>\n",
       "  <tbody>\n",
       "    <tr>\n",
       "      <th>2500</th>\n",
       "      <td>2020-10-10 04:17:57.546000+00:00</td>\n",
       "      <td>Slot end</td>\n",
       "      <td>NaN</td>\n",
       "      <td>NaN</td>\n",
       "      <td>NaN</td>\n",
       "      <td>NaN</td>\n",
       "      <td>NaN</td>\n",
       "    </tr>\n",
       "  </tbody>\n",
       "</table>\n",
       "</div>"
      ],
      "text/plain": [
       "                                   ts       msg  scheduledSlot  peers  \\\n",
       "2500 2020-10-10 04:17:57.546000+00:00  Slot end            NaN    NaN   \n",
       "\n",
       "      headEpoch  finalizedEpoch  slot  \n",
       "2500        NaN             NaN   NaN  "
      ]
     },
     "execution_count": 18,
     "metadata": {},
     "output_type": "execute_result"
    }
   ],
   "source": [
    "# sanity check max time\n",
    "df_nimbus[df_nimbus['ts'] == df_nimbus['ts'].max()]"
   ]
  },
  {
   "cell_type": "code",
   "execution_count": 19,
   "metadata": {},
   "outputs": [
    {
     "data": {
      "text/html": [
       "<div>\n",
       "<style scoped>\n",
       "    .dataframe tbody tr th:only-of-type {\n",
       "        vertical-align: middle;\n",
       "    }\n",
       "\n",
       "    .dataframe tbody tr th {\n",
       "        vertical-align: top;\n",
       "    }\n",
       "\n",
       "    .dataframe thead th {\n",
       "        text-align: right;\n",
       "    }\n",
       "</style>\n",
       "<table border=\"1\" class=\"dataframe\">\n",
       "  <thead>\n",
       "    <tr style=\"text-align: right;\">\n",
       "      <th></th>\n",
       "      <th>ts</th>\n",
       "      <th>msg</th>\n",
       "      <th>scheduledSlot</th>\n",
       "      <th>peers</th>\n",
       "      <th>headEpoch</th>\n",
       "      <th>finalizedEpoch</th>\n",
       "      <th>slot</th>\n",
       "    </tr>\n",
       "  </thead>\n",
       "  <tbody>\n",
       "    <tr>\n",
       "      <th>15006</th>\n",
       "      <td>2020-10-09 00:06:44+00:00</td>\n",
       "      <td>Slot start</td>\n",
       "      <td>471333.0</td>\n",
       "      <td>3.0</td>\n",
       "      <td>0.0</td>\n",
       "      <td>0.0</td>\n",
       "      <td>NaN</td>\n",
       "    </tr>\n",
       "  </tbody>\n",
       "</table>\n",
       "</div>"
      ],
      "text/plain": [
       "                             ts         msg  scheduledSlot  peers  headEpoch  \\\n",
       "15006 2020-10-09 00:06:44+00:00  Slot start       471333.0    3.0        0.0   \n",
       "\n",
       "       finalizedEpoch  slot  \n",
       "15006             0.0   NaN  "
      ]
     },
     "execution_count": 19,
     "metadata": {},
     "output_type": "execute_result"
    }
   ],
   "source": [
    "# sanity check min time\n",
    "df_nimbus[df_nimbus['ts'] == df_nimbus['ts'].min()]"
   ]
  },
  {
   "cell_type": "code",
   "execution_count": 20,
   "metadata": {},
   "outputs": [
    {
     "data": {
      "text/plain": [
       "Text(0.5, 1.0, 'Nimbus Sync Progress')"
      ]
     },
     "execution_count": 20,
     "metadata": {},
     "output_type": "execute_result"
    },
    {
     "data": {
      "image/png": "[encoded data removed]",
      "text/plain": [
       "<Figure size 432x288 with 1 Axes>"
      ]
     },
     "metadata": {},
     "output_type": "display_data"
    }
   ],
   "source": [
    "df_nimbus['current_slot'] = df_nimbus['headEpoch']*32\n",
    "df_nimbus['time_elapsed'] = df_nimbus['ts'] - df_nimbus['ts'].min()\n",
    "df_nimbus = df_nimbus.sort_values(by=['time_elapsed'])\n",
    "df_nimbus.plot(x='time_elapsed', y='current_slot', legend=False, ylabel='slot')\n",
    "plt.title('Nimbus Sync Progress')"
   ]
  },
  {
   "cell_type": "markdown",
   "metadata": {},
   "source": [
    "### Prysm"
   ]
  },
  {
   "cell_type": "code",
   "execution_count": 21,
   "metadata": {},
   "outputs": [
    {
     "data": {
      "text/html": [
       "<div>\n",
       "<style scoped>\n",
       "    .dataframe tbody tr th:only-of-type {\n",
       "        vertical-align: middle;\n",
       "    }\n",
       "\n",
       "    .dataframe tbody tr th {\n",
       "        vertical-align: top;\n",
       "    }\n",
       "\n",
       "    .dataframe thead th {\n",
       "        text-align: right;\n",
       "    }\n",
       "</style>\n",
       "<table border=\"1\" class=\"dataframe\">\n",
       "  <thead>\n",
       "    <tr style=\"text-align: right;\">\n",
       "      <th></th>\n",
       "      <th>activePeers</th>\n",
       "      <th>direction</th>\n",
       "      <th>level</th>\n",
       "      <th>msg</th>\n",
       "      <th>current_slot</th>\n",
       "      <th>max_slot</th>\n",
       "      <th>estimated_time_remaining</th>\n",
       "      <th>multiAddr</th>\n",
       "      <th>prefix</th>\n",
       "      <th>time</th>\n",
       "      <th>required</th>\n",
       "      <th>suitable</th>\n",
       "      <th>blocksPerSecond</th>\n",
       "      <th>peers</th>\n",
       "      <th>root</th>\n",
       "      <th>slot</th>\n",
       "    </tr>\n",
       "  </thead>\n",
       "  <tbody>\n",
       "    <tr>\n",
       "      <th>0</th>\n",
       "      <td>3.0</td>\n",
       "      <td>2.0</td>\n",
       "      <td>info</td>\n",
       "      <td>Peer connected</td>\n",
       "      <td>NaN</td>\n",
       "      <td>NaN</td>\n",
       "      <td>NaN</td>\n",
       "      <td>/ip4/206.189.196.155/tcp/9000/p2p/16Uiu2HAm2c7...</td>\n",
       "      <td>p2p</td>\n",
       "      <td>2020-10-07 14:11:03+00:00</td>\n",
       "      <td>NaN</td>\n",
       "      <td>NaN</td>\n",
       "      <td>NaN</td>\n",
       "      <td>NaN</td>\n",
       "      <td>NaN</td>\n",
       "      <td>NaN</td>\n",
       "    </tr>\n",
       "    <tr>\n",
       "      <th>1</th>\n",
       "      <td>NaN</td>\n",
       "      <td>NaN</td>\n",
       "      <td>info</td>\n",
       "      <td>Waiting for enough suitable peers before syncing</td>\n",
       "      <td>NaN</td>\n",
       "      <td>NaN</td>\n",
       "      <td>NaN</td>\n",
       "      <td>NaN</td>\n",
       "      <td>initial-sync</td>\n",
       "      <td>2020-10-07 14:11:07+00:00</td>\n",
       "      <td>3.0</td>\n",
       "      <td>1.0</td>\n",
       "      <td>NaN</td>\n",
       "      <td>NaN</td>\n",
       "      <td>NaN</td>\n",
       "      <td>NaN</td>\n",
       "    </tr>\n",
       "    <tr>\n",
       "      <th>2</th>\n",
       "      <td>5.0</td>\n",
       "      <td>2.0</td>\n",
       "      <td>info</td>\n",
       "      <td>Peer connected</td>\n",
       "      <td>NaN</td>\n",
       "      <td>NaN</td>\n",
       "      <td>NaN</td>\n",
       "      <td>/ip4/159.203.165.140/tcp/9000/p2p/16Uiu2HAm6n5...</td>\n",
       "      <td>p2p</td>\n",
       "      <td>2020-10-07 14:11:08+00:00</td>\n",
       "      <td>NaN</td>\n",
       "      <td>NaN</td>\n",
       "      <td>NaN</td>\n",
       "      <td>NaN</td>\n",
       "      <td>NaN</td>\n",
       "      <td>NaN</td>\n",
       "    </tr>\n",
       "    <tr>\n",
       "      <th>3</th>\n",
       "      <td>5.0</td>\n",
       "      <td>2.0</td>\n",
       "      <td>info</td>\n",
       "      <td>Peer connected</td>\n",
       "      <td>NaN</td>\n",
       "      <td>NaN</td>\n",
       "      <td>NaN</td>\n",
       "      <td>/ip4/3.132.193.49/tcp/9000/p2p/16Uiu2HAmDozn3k...</td>\n",
       "      <td>p2p</td>\n",
       "      <td>2020-10-07 14:11:08+00:00</td>\n",
       "      <td>NaN</td>\n",
       "      <td>NaN</td>\n",
       "      <td>NaN</td>\n",
       "      <td>NaN</td>\n",
       "      <td>NaN</td>\n",
       "      <td>NaN</td>\n",
       "    </tr>\n",
       "    <tr>\n",
       "      <th>4</th>\n",
       "      <td>5.0</td>\n",
       "      <td>2.0</td>\n",
       "      <td>info</td>\n",
       "      <td>Peer connected</td>\n",
       "      <td>NaN</td>\n",
       "      <td>NaN</td>\n",
       "      <td>NaN</td>\n",
       "      <td>/ip4/101.179.14.213/tcp/9000/p2p/16Uiu2HAkyCHS...</td>\n",
       "      <td>p2p</td>\n",
       "      <td>2020-10-07 14:11:09+00:00</td>\n",
       "      <td>NaN</td>\n",
       "      <td>NaN</td>\n",
       "      <td>NaN</td>\n",
       "      <td>NaN</td>\n",
       "      <td>NaN</td>\n",
       "      <td>NaN</td>\n",
       "    </tr>\n",
       "  </tbody>\n",
       "</table>\n",
       "</div>"
      ],
      "text/plain": [
       "   activePeers  direction level  \\\n",
       "0          3.0        2.0  info   \n",
       "1          NaN        NaN  info   \n",
       "2          5.0        2.0  info   \n",
       "3          5.0        2.0  info   \n",
       "4          5.0        2.0  info   \n",
       "\n",
       "                                                msg  current_slot  max_slot  \\\n",
       "0                                    Peer connected           NaN       NaN   \n",
       "1  Waiting for enough suitable peers before syncing           NaN       NaN   \n",
       "2                                    Peer connected           NaN       NaN   \n",
       "3                                    Peer connected           NaN       NaN   \n",
       "4                                    Peer connected           NaN       NaN   \n",
       "\n",
       "  estimated_time_remaining                                          multiAddr  \\\n",
       "0                      NaN  /ip4/206.189.196.155/tcp/9000/p2p/16Uiu2HAm2c7...   \n",
       "1                      NaN                                                NaN   \n",
       "2                      NaN  /ip4/159.203.165.140/tcp/9000/p2p/16Uiu2HAm6n5...   \n",
       "3                      NaN  /ip4/3.132.193.49/tcp/9000/p2p/16Uiu2HAmDozn3k...   \n",
       "4                      NaN  /ip4/101.179.14.213/tcp/9000/p2p/16Uiu2HAkyCHS...   \n",
       "\n",
       "         prefix                      time  required  suitable  \\\n",
       "0           p2p 2020-10-07 14:11:03+00:00       NaN       NaN   \n",
       "1  initial-sync 2020-10-07 14:11:07+00:00       3.0       1.0   \n",
       "2           p2p 2020-10-07 14:11:08+00:00       NaN       NaN   \n",
       "3           p2p 2020-10-07 14:11:08+00:00       NaN       NaN   \n",
       "4           p2p 2020-10-07 14:11:09+00:00       NaN       NaN   \n",
       "\n",
       "   blocksPerSecond  peers root  slot  \n",
       "0              NaN    NaN  NaN   NaN  \n",
       "1              NaN    NaN  NaN   NaN  \n",
       "2              NaN    NaN  NaN   NaN  \n",
       "3              NaN    NaN  NaN   NaN  \n",
       "4              NaN    NaN  NaN   NaN  "
      ]
     },
     "execution_count": 21,
     "metadata": {},
     "output_type": "execute_result"
    }
   ],
   "source": [
    "df_prysm['time'] =  pd.to_datetime(df_prysm['time'])\n",
    "df_prysm.head()"
   ]
  },
  {
   "cell_type": "code",
   "execution_count": 22,
   "metadata": {},
   "outputs": [
    {
     "data": {
      "text/html": [
       "<div>\n",
       "<style scoped>\n",
       "    .dataframe tbody tr th:only-of-type {\n",
       "        vertical-align: middle;\n",
       "    }\n",
       "\n",
       "    .dataframe tbody tr th {\n",
       "        vertical-align: top;\n",
       "    }\n",
       "\n",
       "    .dataframe thead th {\n",
       "        text-align: right;\n",
       "    }\n",
       "</style>\n",
       "<table border=\"1\" class=\"dataframe\">\n",
       "  <thead>\n",
       "    <tr style=\"text-align: right;\">\n",
       "      <th></th>\n",
       "      <th>activePeers</th>\n",
       "      <th>direction</th>\n",
       "      <th>level</th>\n",
       "      <th>msg</th>\n",
       "      <th>current_slot</th>\n",
       "      <th>max_slot</th>\n",
       "      <th>estimated_time_remaining</th>\n",
       "      <th>multiAddr</th>\n",
       "      <th>prefix</th>\n",
       "      <th>time</th>\n",
       "      <th>required</th>\n",
       "      <th>suitable</th>\n",
       "      <th>blocksPerSecond</th>\n",
       "      <th>peers</th>\n",
       "      <th>root</th>\n",
       "      <th>slot</th>\n",
       "    </tr>\n",
       "  </thead>\n",
       "  <tbody>\n",
       "    <tr>\n",
       "      <th>10</th>\n",
       "      <td>NaN</td>\n",
       "      <td>NaN</td>\n",
       "      <td>info</td>\n",
       "      <td>Processing block batch of size 44 starting fro...</td>\n",
       "      <td>1.0</td>\n",
       "      <td>461155.0</td>\n",
       "      <td>58h13m35s</td>\n",
       "      <td>NaN</td>\n",
       "      <td>initial-sync</td>\n",
       "      <td>2020-10-07 14:11:19+00:00</td>\n",
       "      <td>NaN</td>\n",
       "      <td>NaN</td>\n",
       "      <td>2.2</td>\n",
       "      <td>9.0</td>\n",
       "      <td>NaN</td>\n",
       "      <td>NaN</td>\n",
       "    </tr>\n",
       "    <tr>\n",
       "      <th>12</th>\n",
       "      <td>NaN</td>\n",
       "      <td>NaN</td>\n",
       "      <td>info</td>\n",
       "      <td>Processing block batch of size 35 starting fro...</td>\n",
       "      <td>68.0</td>\n",
       "      <td>461156.0</td>\n",
       "      <td>32h25m31s</td>\n",
       "      <td>NaN</td>\n",
       "      <td>initial-sync</td>\n",
       "      <td>2020-10-07 14:11:23+00:00</td>\n",
       "      <td>NaN</td>\n",
       "      <td>NaN</td>\n",
       "      <td>4.0</td>\n",
       "      <td>10.0</td>\n",
       "      <td>NaN</td>\n",
       "      <td>NaN</td>\n",
       "    </tr>\n",
       "    <tr>\n",
       "      <th>13</th>\n",
       "      <td>NaN</td>\n",
       "      <td>NaN</td>\n",
       "      <td>info</td>\n",
       "      <td>Processing block batch of size 39 starting fro...</td>\n",
       "      <td>128.0</td>\n",
       "      <td>461156.0</td>\n",
       "      <td>21h42m20s</td>\n",
       "      <td>NaN</td>\n",
       "      <td>initial-sync</td>\n",
       "      <td>2020-10-07 14:11:26+00:00</td>\n",
       "      <td>NaN</td>\n",
       "      <td>NaN</td>\n",
       "      <td>5.9</td>\n",
       "      <td>10.0</td>\n",
       "      <td>NaN</td>\n",
       "      <td>NaN</td>\n",
       "    </tr>\n",
       "    <tr>\n",
       "      <th>14</th>\n",
       "      <td>NaN</td>\n",
       "      <td>NaN</td>\n",
       "      <td>info</td>\n",
       "      <td>Processing block batch of size 46 starting fro...</td>\n",
       "      <td>192.0</td>\n",
       "      <td>461156.0</td>\n",
       "      <td>15h36m55s</td>\n",
       "      <td>NaN</td>\n",
       "      <td>initial-sync</td>\n",
       "      <td>2020-10-07 14:11:30+00:00</td>\n",
       "      <td>NaN</td>\n",
       "      <td>NaN</td>\n",
       "      <td>8.2</td>\n",
       "      <td>10.0</td>\n",
       "      <td>NaN</td>\n",
       "      <td>NaN</td>\n",
       "    </tr>\n",
       "    <tr>\n",
       "      <th>17</th>\n",
       "      <td>NaN</td>\n",
       "      <td>NaN</td>\n",
       "      <td>info</td>\n",
       "      <td>Processing block batch of size 40 starting fro...</td>\n",
       "      <td>257.0</td>\n",
       "      <td>461157.0</td>\n",
       "      <td>12h33m6s</td>\n",
       "      <td>NaN</td>\n",
       "      <td>initial-sync</td>\n",
       "      <td>2020-10-07 14:11:33+00:00</td>\n",
       "      <td>NaN</td>\n",
       "      <td>NaN</td>\n",
       "      <td>10.2</td>\n",
       "      <td>12.0</td>\n",
       "      <td>NaN</td>\n",
       "      <td>NaN</td>\n",
       "    </tr>\n",
       "  </tbody>\n",
       "</table>\n",
       "</div>"
      ],
      "text/plain": [
       "    activePeers  direction level  \\\n",
       "10          NaN        NaN  info   \n",
       "12          NaN        NaN  info   \n",
       "13          NaN        NaN  info   \n",
       "14          NaN        NaN  info   \n",
       "17          NaN        NaN  info   \n",
       "\n",
       "                                                  msg  current_slot  max_slot  \\\n",
       "10  Processing block batch of size 44 starting fro...           1.0  461155.0   \n",
       "12  Processing block batch of size 35 starting fro...          68.0  461156.0   \n",
       "13  Processing block batch of size 39 starting fro...         128.0  461156.0   \n",
       "14  Processing block batch of size 46 starting fro...         192.0  461156.0   \n",
       "17  Processing block batch of size 40 starting fro...         257.0  461157.0   \n",
       "\n",
       "   estimated_time_remaining multiAddr        prefix                      time  \\\n",
       "10                58h13m35s       NaN  initial-sync 2020-10-07 14:11:19+00:00   \n",
       "12                32h25m31s       NaN  initial-sync 2020-10-07 14:11:23+00:00   \n",
       "13                21h42m20s       NaN  initial-sync 2020-10-07 14:11:26+00:00   \n",
       "14                15h36m55s       NaN  initial-sync 2020-10-07 14:11:30+00:00   \n",
       "17                 12h33m6s       NaN  initial-sync 2020-10-07 14:11:33+00:00   \n",
       "\n",
       "    required  suitable  blocksPerSecond  peers root  slot  \n",
       "10       NaN       NaN              2.2    9.0  NaN   NaN  \n",
       "12       NaN       NaN              4.0   10.0  NaN   NaN  \n",
       "13       NaN       NaN              5.9   10.0  NaN   NaN  \n",
       "14       NaN       NaN              8.2   10.0  NaN   NaN  \n",
       "17       NaN       NaN             10.2   12.0  NaN   NaN  "
      ]
     },
     "execution_count": 22,
     "metadata": {},
     "output_type": "execute_result"
    }
   ],
   "source": [
    "df_prysm_parsed = df_prysm[df_prysm['msg'].str.contains('Processing block')]\n",
    "df_prysm_parsed.head()"
   ]
  },
  {
   "cell_type": "code",
   "execution_count": 23,
   "metadata": {},
   "outputs": [
    {
     "data": {
      "text/html": [
       "<div>\n",
       "<style scoped>\n",
       "    .dataframe tbody tr th:only-of-type {\n",
       "        vertical-align: middle;\n",
       "    }\n",
       "\n",
       "    .dataframe tbody tr th {\n",
       "        vertical-align: top;\n",
       "    }\n",
       "\n",
       "    .dataframe thead th {\n",
       "        text-align: right;\n",
       "    }\n",
       "</style>\n",
       "<table border=\"1\" class=\"dataframe\">\n",
       "  <thead>\n",
       "    <tr style=\"text-align: right;\">\n",
       "      <th></th>\n",
       "      <th>activePeers</th>\n",
       "      <th>direction</th>\n",
       "      <th>level</th>\n",
       "      <th>msg</th>\n",
       "      <th>current_slot</th>\n",
       "      <th>max_slot</th>\n",
       "      <th>estimated_time_remaining</th>\n",
       "      <th>multiAddr</th>\n",
       "      <th>prefix</th>\n",
       "      <th>time</th>\n",
       "      <th>required</th>\n",
       "      <th>suitable</th>\n",
       "      <th>blocksPerSecond</th>\n",
       "      <th>peers</th>\n",
       "      <th>root</th>\n",
       "      <th>slot</th>\n",
       "    </tr>\n",
       "  </thead>\n",
       "  <tbody>\n",
       "    <tr>\n",
       "      <th>10</th>\n",
       "      <td>NaN</td>\n",
       "      <td>NaN</td>\n",
       "      <td>info</td>\n",
       "      <td>Processing block batch of size 44 starting fro...</td>\n",
       "      <td>1.0</td>\n",
       "      <td>461155.0</td>\n",
       "      <td>58h13m35s</td>\n",
       "      <td>NaN</td>\n",
       "      <td>initial-sync</td>\n",
       "      <td>2020-10-07 14:11:19+00:00</td>\n",
       "      <td>NaN</td>\n",
       "      <td>NaN</td>\n",
       "      <td>2.2</td>\n",
       "      <td>9.0</td>\n",
       "      <td>NaN</td>\n",
       "      <td>NaN</td>\n",
       "    </tr>\n",
       "  </tbody>\n",
       "</table>\n",
       "</div>"
      ],
      "text/plain": [
       "    activePeers  direction level  \\\n",
       "10          NaN        NaN  info   \n",
       "\n",
       "                                                  msg  current_slot  max_slot  \\\n",
       "10  Processing block batch of size 44 starting fro...           1.0  461155.0   \n",
       "\n",
       "   estimated_time_remaining multiAddr        prefix                      time  \\\n",
       "10                58h13m35s       NaN  initial-sync 2020-10-07 14:11:19+00:00   \n",
       "\n",
       "    required  suitable  blocksPerSecond  peers root  slot  \n",
       "10       NaN       NaN              2.2    9.0  NaN   NaN  "
      ]
     },
     "execution_count": 23,
     "metadata": {},
     "output_type": "execute_result"
    }
   ],
   "source": [
    "df_prysm_parsed[df_prysm_parsed['time'] == df_prysm_parsed['time'].min()]"
   ]
  },
  {
   "cell_type": "code",
   "execution_count": 24,
   "metadata": {},
   "outputs": [
    {
     "data": {
      "text/html": [
       "<div>\n",
       "<style scoped>\n",
       "    .dataframe tbody tr th:only-of-type {\n",
       "        vertical-align: middle;\n",
       "    }\n",
       "\n",
       "    .dataframe tbody tr th {\n",
       "        vertical-align: top;\n",
       "    }\n",
       "\n",
       "    .dataframe thead th {\n",
       "        text-align: right;\n",
       "    }\n",
       "</style>\n",
       "<table border=\"1\" class=\"dataframe\">\n",
       "  <thead>\n",
       "    <tr style=\"text-align: right;\">\n",
       "      <th></th>\n",
       "      <th>activePeers</th>\n",
       "      <th>direction</th>\n",
       "      <th>level</th>\n",
       "      <th>msg</th>\n",
       "      <th>current_slot</th>\n",
       "      <th>max_slot</th>\n",
       "      <th>estimated_time_remaining</th>\n",
       "      <th>multiAddr</th>\n",
       "      <th>prefix</th>\n",
       "      <th>time</th>\n",
       "      <th>required</th>\n",
       "      <th>suitable</th>\n",
       "      <th>blocksPerSecond</th>\n",
       "      <th>peers</th>\n",
       "      <th>root</th>\n",
       "      <th>slot</th>\n",
       "    </tr>\n",
       "  </thead>\n",
       "  <tbody>\n",
       "    <tr>\n",
       "      <th>9039</th>\n",
       "      <td>NaN</td>\n",
       "      <td>NaN</td>\n",
       "      <td>info</td>\n",
       "      <td>Processing block batch of size 46 starting fro...</td>\n",
       "      <td>463556.0</td>\n",
       "      <td>463692.0</td>\n",
       "      <td>14s</td>\n",
       "      <td>NaN</td>\n",
       "      <td>initial-sync</td>\n",
       "      <td>2020-10-07 22:38:35+00:00</td>\n",
       "      <td>NaN</td>\n",
       "      <td>NaN</td>\n",
       "      <td>9.2</td>\n",
       "      <td>32.0</td>\n",
       "      <td>NaN</td>\n",
       "      <td>NaN</td>\n",
       "    </tr>\n",
       "  </tbody>\n",
       "</table>\n",
       "</div>"
      ],
      "text/plain": [
       "      activePeers  direction level  \\\n",
       "9039          NaN        NaN  info   \n",
       "\n",
       "                                                    msg  current_slot  \\\n",
       "9039  Processing block batch of size 46 starting fro...      463556.0   \n",
       "\n",
       "      max_slot estimated_time_remaining multiAddr        prefix  \\\n",
       "9039  463692.0                      14s       NaN  initial-sync   \n",
       "\n",
       "                          time  required  suitable  blocksPerSecond  peers  \\\n",
       "9039 2020-10-07 22:38:35+00:00       NaN       NaN              9.2   32.0   \n",
       "\n",
       "     root  slot  \n",
       "9039  NaN   NaN  "
      ]
     },
     "execution_count": 24,
     "metadata": {},
     "output_type": "execute_result"
    }
   ],
   "source": [
    "df_prysm_parsed[df_prysm_parsed['time'] == df_prysm_parsed['time'].max()]"
   ]
  },
  {
   "cell_type": "code",
   "execution_count": 25,
   "metadata": {},
   "outputs": [
    {
     "name": "stdout",
     "output_type": "stream",
     "text": [
      "0 days 08:27:16\n"
     ]
    }
   ],
   "source": [
    "total_sync_time_prysm = df_prysm_parsed['time'].max() - df_prysm_parsed['time'].min()\n",
    "print(total_sync_time_prysm)"
   ]
  },
  {
   "cell_type": "code",
   "execution_count": 26,
   "metadata": {},
   "outputs": [
    {
     "name": "stderr",
     "output_type": "stream",
     "text": [
      "<ipython-input-26-7946190b199e>:1: SettingWithCopyWarning: \n",
      "A value is trying to be set on a copy of a slice from a DataFrame.\n",
      "Try using .loc[row_indexer,col_indexer] = value instead\n",
      "\n",
      "See the caveats in the documentation: https://pandas.pydata.org/pandas-docs/stable/user_guide/indexing.html#returning-a-view-versus-a-copy\n",
      "  df_prysm_parsed['time_elapsed'] = df_prysm_parsed['time'] - df_prysm_parsed['time'].min()\n"
     ]
    },
    {
     "data": {
      "text/plain": [
       "Text(0.5, 1.0, 'Prysm Sync Progress')"
      ]
     },
     "execution_count": 26,
     "metadata": {},
     "output_type": "execute_result"
    },
    {
     "data": {
      "image/png": "[encoded data removed]",
      "text/plain": [
       "<Figure size 432x288 with 1 Axes>"
      ]
     },
     "metadata": {},
     "output_type": "display_data"
    }
   ],
   "source": [
    "df_prysm_parsed['time_elapsed'] = df_prysm_parsed['time'] - df_prysm_parsed['time'].min()\n",
    "df_prysm_parsed.plot(x='time_elapsed', y='current_slot', legend=False, ylabel='slot')\n",
    "plt.title('Prysm Sync Progress')"
   ]
  },
  {
   "cell_type": "markdown",
   "metadata": {},
   "source": [
    "## Teku"
   ]
  },
  {
   "cell_type": "code",
   "execution_count": 27,
   "metadata": {},
   "outputs": [
    {
     "data": {
      "text/html": [
       "<div>\n",
       "<style scoped>\n",
       "    .dataframe tbody tr th:only-of-type {\n",
       "        vertical-align: middle;\n",
       "    }\n",
       "\n",
       "    .dataframe tbody tr th {\n",
       "        vertical-align: top;\n",
       "    }\n",
       "\n",
       "    .dataframe thead th {\n",
       "        text-align: right;\n",
       "    }\n",
       "</style>\n",
       "<table border=\"1\" class=\"dataframe\">\n",
       "  <thead>\n",
       "    <tr style=\"text-align: right;\">\n",
       "      <th></th>\n",
       "      <th>datetime</th>\n",
       "      <th>current_slot</th>\n",
       "      <th>head_slot</th>\n",
       "      <th>connected_peer</th>\n",
       "    </tr>\n",
       "  </thead>\n",
       "  <tbody>\n",
       "    <tr>\n",
       "      <th>0</th>\n",
       "      <td>2020-10-11 23:10:56</td>\n",
       "      <td>492654.0</td>\n",
       "      <td>46.0</td>\n",
       "      <td>7.0</td>\n",
       "    </tr>\n",
       "    <tr>\n",
       "      <th>1</th>\n",
       "      <td>2020-10-11 23:11:08</td>\n",
       "      <td>492655.0</td>\n",
       "      <td>210.0</td>\n",
       "      <td>7.0</td>\n",
       "    </tr>\n",
       "    <tr>\n",
       "      <th>2</th>\n",
       "      <td>2020-10-11 23:11:21</td>\n",
       "      <td>492656.0</td>\n",
       "      <td>352.0</td>\n",
       "      <td>6.0</td>\n",
       "    </tr>\n",
       "    <tr>\n",
       "      <th>3</th>\n",
       "      <td>2020-10-11 23:11:32</td>\n",
       "      <td>492657.0</td>\n",
       "      <td>448.0</td>\n",
       "      <td>5.0</td>\n",
       "    </tr>\n",
       "    <tr>\n",
       "      <th>4</th>\n",
       "      <td>2020-10-11 23:11:44</td>\n",
       "      <td>492658.0</td>\n",
       "      <td>576.0</td>\n",
       "      <td>4.0</td>\n",
       "    </tr>\n",
       "  </tbody>\n",
       "</table>\n",
       "</div>"
      ],
      "text/plain": [
       "             datetime  current_slot  head_slot  connected_peer\n",
       "0 2020-10-11 23:10:56      492654.0       46.0             7.0\n",
       "1 2020-10-11 23:11:08      492655.0      210.0             7.0\n",
       "2 2020-10-11 23:11:21      492656.0      352.0             6.0\n",
       "3 2020-10-11 23:11:32      492657.0      448.0             5.0\n",
       "4 2020-10-11 23:11:44      492658.0      576.0             4.0"
      ]
     },
     "execution_count": 27,
     "metadata": {},
     "output_type": "execute_result"
    }
   ],
   "source": [
    "df_teku['datetime'] =  pd.to_datetime(('2020 ' + df_teku['datetime']), format='%Y %b-%d %H:%M:%S')\n",
    "df_teku.head()\n"
   ]
  },
  {
   "cell_type": "code",
   "execution_count": 28,
   "metadata": {},
   "outputs": [
    {
     "data": {
      "text/html": [
       "<div>\n",
       "<style scoped>\n",
       "    .dataframe tbody tr th:only-of-type {\n",
       "        vertical-align: middle;\n",
       "    }\n",
       "\n",
       "    .dataframe tbody tr th {\n",
       "        vertical-align: top;\n",
       "    }\n",
       "\n",
       "    .dataframe thead th {\n",
       "        text-align: right;\n",
       "    }\n",
       "</style>\n",
       "<table border=\"1\" class=\"dataframe\">\n",
       "  <thead>\n",
       "    <tr style=\"text-align: right;\">\n",
       "      <th></th>\n",
       "      <th>datetime</th>\n",
       "      <th>current_slot</th>\n",
       "      <th>head_slot</th>\n",
       "      <th>connected_peer</th>\n",
       "    </tr>\n",
       "  </thead>\n",
       "  <tbody>\n",
       "    <tr>\n",
       "      <th>7283</th>\n",
       "      <td>2020-10-12 23:27:20</td>\n",
       "      <td>NaN</td>\n",
       "      <td>NaN</td>\n",
       "      <td>NaN</td>\n",
       "    </tr>\n",
       "  </tbody>\n",
       "</table>\n",
       "</div>"
      ],
      "text/plain": [
       "                datetime  current_slot  head_slot  connected_peer\n",
       "7283 2020-10-12 23:27:20           NaN        NaN             NaN"
      ]
     },
     "execution_count": 28,
     "metadata": {},
     "output_type": "execute_result"
    }
   ],
   "source": [
    "df_teku[df_teku['datetime'] == df_teku['datetime'].max()]"
   ]
  },
  {
   "cell_type": "code",
   "execution_count": 29,
   "metadata": {},
   "outputs": [
    {
     "data": {
      "text/html": [
       "<div>\n",
       "<style scoped>\n",
       "    .dataframe tbody tr th:only-of-type {\n",
       "        vertical-align: middle;\n",
       "    }\n",
       "\n",
       "    .dataframe tbody tr th {\n",
       "        vertical-align: top;\n",
       "    }\n",
       "\n",
       "    .dataframe thead th {\n",
       "        text-align: right;\n",
       "    }\n",
       "</style>\n",
       "<table border=\"1\" class=\"dataframe\">\n",
       "  <thead>\n",
       "    <tr style=\"text-align: right;\">\n",
       "      <th></th>\n",
       "      <th>datetime</th>\n",
       "      <th>current_slot</th>\n",
       "      <th>head_slot</th>\n",
       "      <th>connected_peer</th>\n",
       "    </tr>\n",
       "  </thead>\n",
       "  <tbody>\n",
       "    <tr>\n",
       "      <th>0</th>\n",
       "      <td>2020-10-11 23:10:56</td>\n",
       "      <td>492654.0</td>\n",
       "      <td>46.0</td>\n",
       "      <td>7.0</td>\n",
       "    </tr>\n",
       "  </tbody>\n",
       "</table>\n",
       "</div>"
      ],
      "text/plain": [
       "             datetime  current_slot  head_slot  connected_peer\n",
       "0 2020-10-11 23:10:56      492654.0       46.0             7.0"
      ]
     },
     "execution_count": 29,
     "metadata": {},
     "output_type": "execute_result"
    }
   ],
   "source": [
    "df_teku[df_teku['datetime'] == df_teku['datetime'].min()]"
   ]
  },
  {
   "cell_type": "code",
   "execution_count": 30,
   "metadata": {},
   "outputs": [
    {
     "name": "stdout",
     "output_type": "stream",
     "text": [
      "1 days 00:16:24\n"
     ]
    }
   ],
   "source": [
    "total_sync_time_teku = df_teku['datetime'].max() - df_teku['datetime'].min()\n",
    "print(total_sync_time_teku)"
   ]
  },
  {
   "cell_type": "code",
   "execution_count": 31,
   "metadata": {},
   "outputs": [
    {
     "data": {
      "text/plain": [
       "Text(0.5, 1.0, 'Teku Sync Progress')"
      ]
     },
     "execution_count": 31,
     "metadata": {},
     "output_type": "execute_result"
    },
    {
     "data": {
      "image/png": "[encoded data removed]",
      "text/plain": [
       "<Figure size 432x288 with 1 Axes>"
      ]
     },
     "metadata": {},
     "output_type": "display_data"
    }
   ],
   "source": [
    "df_teku['time_elapsed'] = df_teku['datetime'] - df_teku['datetime'].min()\n",
    "df_teku.plot(x='time_elapsed', y='head_slot', legend=False, ylabel='slot')\n",
    "plt.title('Teku Sync Progress')"
   ]
  },
  {
   "cell_type": "markdown",
   "metadata": {},
   "source": [
    "### Combined sync chart"
   ]
  },
  {
   "cell_type": "code",
   "execution_count": 32,
   "metadata": {},
   "outputs": [
    {
     "name": "stderr",
     "output_type": "stream",
     "text": [
      "<ipython-input-32-9dca9e503e79>:2: SettingWithCopyWarning: \n",
      "A value is trying to be set on a copy of a slice from a DataFrame.\n",
      "Try using .loc[row_indexer,col_indexer] = value instead\n",
      "\n",
      "See the caveats in the documentation: https://pandas.pydata.org/pandas-docs/stable/user_guide/indexing.html#returning-a-view-versus-a-copy\n",
      "  df_lighthouse_parsed['lighthouse_sync_percentage'] = 100*(df_lighthouse_parsed['current_slot']/(df_lighthouse_parsed['current_slot'].max()))\n",
      "<ipython-input-32-9dca9e503e79>:3: SettingWithCopyWarning: \n",
      "A value is trying to be set on a copy of a slice from a DataFrame.\n",
      "Try using .loc[row_indexer,col_indexer] = value instead\n",
      "\n",
      "See the caveats in the documentation: https://pandas.pydata.org/pandas-docs/stable/user_guide/indexing.html#returning-a-view-versus-a-copy\n",
      "  df_lighthouse_parsed['seconds_elapsed'] = df_lighthouse_parsed['time_elapsed'].dt.total_seconds()\n",
      "<ipython-input-32-9dca9e503e79>:12: SettingWithCopyWarning: \n",
      "A value is trying to be set on a copy of a slice from a DataFrame.\n",
      "Try using .loc[row_indexer,col_indexer] = value instead\n",
      "\n",
      "See the caveats in the documentation: https://pandas.pydata.org/pandas-docs/stable/user_guide/indexing.html#returning-a-view-versus-a-copy\n",
      "  df_prysm_parsed['prysm_sync_percentage'] = 100*(df_prysm_parsed['current_slot']/(df_prysm_parsed['current_slot'].max()))\n",
      "<ipython-input-32-9dca9e503e79>:13: SettingWithCopyWarning: \n",
      "A value is trying to be set on a copy of a slice from a DataFrame.\n",
      "Try using .loc[row_indexer,col_indexer] = value instead\n",
      "\n",
      "See the caveats in the documentation: https://pandas.pydata.org/pandas-docs/stable/user_guide/indexing.html#returning-a-view-versus-a-copy\n",
      "  df_prysm_parsed['seconds_elapsed'] = df_prysm_parsed['time_elapsed'].dt.total_seconds()\n"
     ]
    },
    {
     "data": {
      "text/html": [
       "<div>\n",
       "<style scoped>\n",
       "    .dataframe tbody tr th:only-of-type {\n",
       "        vertical-align: middle;\n",
       "    }\n",
       "\n",
       "    .dataframe tbody tr th {\n",
       "        vertical-align: top;\n",
       "    }\n",
       "\n",
       "    .dataframe thead th {\n",
       "        text-align: right;\n",
       "    }\n",
       "</style>\n",
       "<table border=\"1\" class=\"dataframe\">\n",
       "  <thead>\n",
       "    <tr style=\"text-align: right;\">\n",
       "      <th></th>\n",
       "      <th>seconds_elapsed</th>\n",
       "      <th>lighthouse_sync_percentage</th>\n",
       "      <th>nimbus_sync_percentage</th>\n",
       "      <th>prysm_sync_percentage</th>\n",
       "      <th>teku_sync_percentage</th>\n",
       "    </tr>\n",
       "  </thead>\n",
       "  <tbody>\n",
       "    <tr>\n",
       "      <th>0</th>\n",
       "      <td>0.0</td>\n",
       "      <td>0.000000</td>\n",
       "      <td>0.0</td>\n",
       "      <td>0.000216</td>\n",
       "      <td>0.009202</td>\n",
       "    </tr>\n",
       "    <tr>\n",
       "      <th>1</th>\n",
       "      <td>12.0</td>\n",
       "      <td>0.055930</td>\n",
       "      <td>NaN</td>\n",
       "      <td>NaN</td>\n",
       "      <td>0.042008</td>\n",
       "    </tr>\n",
       "    <tr>\n",
       "      <th>2</th>\n",
       "      <td>24.0</td>\n",
       "      <td>0.168008</td>\n",
       "      <td>NaN</td>\n",
       "      <td>NaN</td>\n",
       "      <td>NaN</td>\n",
       "    </tr>\n",
       "    <tr>\n",
       "      <th>3</th>\n",
       "      <td>36.0</td>\n",
       "      <td>0.223938</td>\n",
       "      <td>NaN</td>\n",
       "      <td>NaN</td>\n",
       "      <td>0.089617</td>\n",
       "    </tr>\n",
       "    <tr>\n",
       "      <th>4</th>\n",
       "      <td>48.0</td>\n",
       "      <td>0.279868</td>\n",
       "      <td>NaN</td>\n",
       "      <td>NaN</td>\n",
       "      <td>0.115222</td>\n",
       "    </tr>\n",
       "    <tr>\n",
       "      <th>...</th>\n",
       "      <td>...</td>\n",
       "      <td>...</td>\n",
       "      <td>...</td>\n",
       "      <td>...</td>\n",
       "      <td>...</td>\n",
       "    </tr>\n",
       "    <tr>\n",
       "      <th>95</th>\n",
       "      <td>1152.0</td>\n",
       "      <td>6.842936</td>\n",
       "      <td>NaN</td>\n",
       "      <td>NaN</td>\n",
       "      <td>NaN</td>\n",
       "    </tr>\n",
       "    <tr>\n",
       "      <th>96</th>\n",
       "      <td>1164.0</td>\n",
       "      <td>6.899085</td>\n",
       "      <td>NaN</td>\n",
       "      <td>NaN</td>\n",
       "      <td>2.266026</td>\n",
       "    </tr>\n",
       "    <tr>\n",
       "      <th>97</th>\n",
       "      <td>1176.0</td>\n",
       "      <td>7.011164</td>\n",
       "      <td>NaN</td>\n",
       "      <td>NaN</td>\n",
       "      <td>NaN</td>\n",
       "    </tr>\n",
       "    <tr>\n",
       "      <th>98</th>\n",
       "      <td>1188.0</td>\n",
       "      <td>7.067094</td>\n",
       "      <td>NaN</td>\n",
       "      <td>NaN</td>\n",
       "      <td>2.311034</td>\n",
       "    </tr>\n",
       "    <tr>\n",
       "      <th>99</th>\n",
       "      <td>1200.0</td>\n",
       "      <td>7.179172</td>\n",
       "      <td>NaN</td>\n",
       "      <td>NaN</td>\n",
       "      <td>NaN</td>\n",
       "    </tr>\n",
       "  </tbody>\n",
       "</table>\n",
       "<p>100 rows × 5 columns</p>\n",
       "</div>"
      ],
      "text/plain": [
       "    seconds_elapsed  lighthouse_sync_percentage  nimbus_sync_percentage  \\\n",
       "0               0.0                    0.000000                     0.0   \n",
       "1              12.0                    0.055930                     NaN   \n",
       "2              24.0                    0.168008                     NaN   \n",
       "3              36.0                    0.223938                     NaN   \n",
       "4              48.0                    0.279868                     NaN   \n",
       "..              ...                         ...                     ...   \n",
       "95           1152.0                    6.842936                     NaN   \n",
       "96           1164.0                    6.899085                     NaN   \n",
       "97           1176.0                    7.011164                     NaN   \n",
       "98           1188.0                    7.067094                     NaN   \n",
       "99           1200.0                    7.179172                     NaN   \n",
       "\n",
       "    prysm_sync_percentage  teku_sync_percentage  \n",
       "0                0.000216              0.009202  \n",
       "1                     NaN              0.042008  \n",
       "2                     NaN                   NaN  \n",
       "3                     NaN              0.089617  \n",
       "4                     NaN              0.115222  \n",
       "..                    ...                   ...  \n",
       "95                    NaN                   NaN  \n",
       "96                    NaN              2.266026  \n",
       "97                    NaN                   NaN  \n",
       "98                    NaN              2.311034  \n",
       "99                    NaN                   NaN  \n",
       "\n",
       "[100 rows x 5 columns]"
      ]
     },
     "execution_count": 32,
     "metadata": {},
     "output_type": "execute_result"
    }
   ],
   "source": [
    "#Lighthouse aggregated dataframe\n",
    "df_lighthouse_parsed['lighthouse_sync_percentage'] = 100*(df_lighthouse_parsed['current_slot']/(df_lighthouse_parsed['current_slot'].max()))\n",
    "df_lighthouse_parsed['seconds_elapsed'] = df_lighthouse_parsed['time_elapsed'].dt.total_seconds()\n",
    "df_lighthouse_comp = df_lighthouse_parsed[['seconds_elapsed', 'lighthouse_sync_percentage']] \n",
    "\n",
    "#Nimbus aggregated dataframe\n",
    "df_nimbus['nimbus_sync_percentage'] = 100*(df_nimbus['current_slot']/(df_nimbus['current_slot'].max()))\n",
    "df_nimbus['seconds_elapsed'] = df_nimbus['time_elapsed'].dt.total_seconds()\n",
    "df_nimbus_comp = df_nimbus[['seconds_elapsed','nimbus_sync_percentage']] \n",
    "\n",
    "#Prysm aggregated dataframe\n",
    "df_prysm_parsed['prysm_sync_percentage'] = 100*(df_prysm_parsed['current_slot']/(df_prysm_parsed['current_slot'].max()))\n",
    "df_prysm_parsed['seconds_elapsed'] = df_prysm_parsed['time_elapsed'].dt.total_seconds()\n",
    "df_prysm_comp = df_prysm_parsed[['seconds_elapsed','prysm_sync_percentage']] \n",
    "\n",
    "#Teku aggregated dataframe\n",
    "df_teku['teku_sync_percentage'] = 100*(df_teku['head_slot']/(df_teku['head_slot'].max()))\n",
    "df_teku['seconds_elapsed'] = df_teku['time_elapsed'].dt.total_seconds()\n",
    "df_teku_comp = df_teku[['seconds_elapsed','teku_sync_percentage']] \n",
    "\n",
    "\n",
    "#Combine all clients into one dataframe for metrics comparison\n",
    "data_frames = [df_lighthouse_comp, df_nimbus_comp, df_prysm_comp, df_teku_comp]\n",
    "\n",
    "df_merged = reduce(lambda  left,right: pd.merge(left,right,on=['seconds_elapsed'],\n",
    "                                            how='outer'), data_frames)\n",
    "\n",
    "\n",
    "# df_merged.to_csv('combined_completion_perc.csv', index=False)  \n",
    "\n",
    "# df_combined = pd.merge(df_combined_times, df_lighthouse_comp, on='time_elapsed', how='left')\n",
    "# df_combined = pd.merge(df_combined, df_nimbus_comp, on='time_elapsed', how='left')\n",
    "# df_combined = pd.merge(df_combined, df_prysm_comp, on='time_elapsed', how='left')\n",
    "# df_combined = pd.merge(df_combined, df_teku_comp, on='time_elapsed', how='left')\n",
    "\n",
    "\n",
    "# df_merged.sort_values(by=['time_elapsed'])\n",
    "# df_merged.tail(1000)\n",
    "\n",
    "df_merged.head(100)"
   ]
  },
  {
   "cell_type": "code",
   "execution_count": 33,
   "metadata": {},
   "outputs": [
    {
     "data": {
      "text/plain": [
       "Text(0.5, 1.0, 'Sync Progress Compared')"
      ]
     },
     "execution_count": 33,
     "metadata": {},
     "output_type": "execute_result"
    },
    {
     "data": {
      "image/png": "[encoded data removed]",
      "text/plain": [
       "<Figure size 864x576 with 1 Axes>"
      ]
     },
     "metadata": {},
     "output_type": "display_data"
    }
   ],
   "source": [
    "df_merged['minutes_elapsed'] = df_merged['seconds_elapsed']/60\n",
    "\n",
    "df_merged.plot(x='minutes_elapsed', y=['lighthouse_sync_percentage', 'nimbus_sync_percentage', 'prysm_sync_percentage', 'teku_sync_percentage'], figsize=(12,8), xlabel='Minutes Elapsed', ylabel='Sync Percentage')\n",
    "# plt.legend(bbox_to_anchor=(1.05, 1), loc=2, borderaxespad=0.)\n",
    "plt.title('Sync Progress Compared')"
   ]
  },
  {
   "cell_type": "code",
   "execution_count": 35,
   "metadata": {},
   "outputs": [
    {
     "data": {
      "text/html": [
       "<div>\n",
       "<style scoped>\n",
       "    .dataframe tbody tr th:only-of-type {\n",
       "        vertical-align: middle;\n",
       "    }\n",
       "\n",
       "    .dataframe tbody tr th {\n",
       "        vertical-align: top;\n",
       "    }\n",
       "\n",
       "    .dataframe thead th {\n",
       "        text-align: right;\n",
       "    }\n",
       "</style>\n",
       "<table border=\"1\" class=\"dataframe\">\n",
       "  <thead>\n",
       "    <tr style=\"text-align: right;\">\n",
       "      <th></th>\n",
       "      <th>seconds_elapsed</th>\n",
       "      <th>lighthouse_sync_percentage</th>\n",
       "      <th>nimbus_sync_percentage</th>\n",
       "      <th>prysm_sync_percentage</th>\n",
       "      <th>teku_sync_percentage</th>\n",
       "      <th>minutes_elapsed</th>\n",
       "    </tr>\n",
       "  </thead>\n",
       "  <tbody>\n",
       "    <tr>\n",
       "      <th>0</th>\n",
       "      <td>0.0</td>\n",
       "      <td>0.000000</td>\n",
       "      <td>0.0</td>\n",
       "      <td>0.000216</td>\n",
       "      <td>0.009202</td>\n",
       "      <td>0.0</td>\n",
       "    </tr>\n",
       "    <tr>\n",
       "      <th>1</th>\n",
       "      <td>12.0</td>\n",
       "      <td>0.055930</td>\n",
       "      <td>NaN</td>\n",
       "      <td>NaN</td>\n",
       "      <td>0.042008</td>\n",
       "      <td>0.2</td>\n",
       "    </tr>\n",
       "    <tr>\n",
       "      <th>2</th>\n",
       "      <td>24.0</td>\n",
       "      <td>0.168008</td>\n",
       "      <td>NaN</td>\n",
       "      <td>NaN</td>\n",
       "      <td>NaN</td>\n",
       "      <td>0.4</td>\n",
       "    </tr>\n",
       "    <tr>\n",
       "      <th>3</th>\n",
       "      <td>36.0</td>\n",
       "      <td>0.223938</td>\n",
       "      <td>NaN</td>\n",
       "      <td>NaN</td>\n",
       "      <td>0.089617</td>\n",
       "      <td>0.6</td>\n",
       "    </tr>\n",
       "    <tr>\n",
       "      <th>4</th>\n",
       "      <td>48.0</td>\n",
       "      <td>0.279868</td>\n",
       "      <td>NaN</td>\n",
       "      <td>NaN</td>\n",
       "      <td>0.115222</td>\n",
       "      <td>0.8</td>\n",
       "    </tr>\n",
       "  </tbody>\n",
       "</table>\n",
       "</div>"
      ],
      "text/plain": [
       "   seconds_elapsed  lighthouse_sync_percentage  nimbus_sync_percentage  \\\n",
       "0              0.0                    0.000000                     0.0   \n",
       "1             12.0                    0.055930                     NaN   \n",
       "2             24.0                    0.168008                     NaN   \n",
       "3             36.0                    0.223938                     NaN   \n",
       "4             48.0                    0.279868                     NaN   \n",
       "\n",
       "   prysm_sync_percentage  teku_sync_percentage  minutes_elapsed  \n",
       "0               0.000216              0.009202              0.0  \n",
       "1                    NaN              0.042008              0.2  \n",
       "2                    NaN                   NaN              0.4  \n",
       "3                    NaN              0.089617              0.6  \n",
       "4                    NaN              0.115222              0.8  "
      ]
     },
     "execution_count": 35,
     "metadata": {},
     "output_type": "execute_result"
    }
   ],
   "source": [
    "df_merged.head()"
   ]
  },
  {
   "cell_type": "code",
   "execution_count": 36,
   "metadata": {},
   "outputs": [],
   "source": [
    "df_merged.to_csv('merged_nodes_performance.csv')"
   ]
  },
  {
   "cell_type": "code",
   "execution_count": null,
   "metadata": {},
   "outputs": [],
   "source": []
  }
 ],
 "metadata": {
  "kernelspec": {
   "display_name": "Python 3",
   "language": "python",
   "name": "python3"
  },
  "language_info": {
   "codemirror_mode": {
    "name": "ipython",
    "version": 3
   },
   "file_extension": ".py",
   "mimetype": "text/x-python",
   "name": "python",
   "nbconvert_exporter": "python",
   "pygments_lexer": "ipython3",
   "version": "3.8.2"
  }
 },
 "nbformat": 4,
 "nbformat_minor": 4
}
