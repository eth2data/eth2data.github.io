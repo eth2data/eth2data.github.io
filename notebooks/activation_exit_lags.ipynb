{
 "cells": [
  {
   "cell_type": "code",
   "execution_count": 45,
   "metadata": {},
   "outputs": [],
   "source": [
    "# load useful packages\n",
    "import pandas as pd\n",
    "import numpy as np\n",
    "import pylab as pl\n",
    "import matplotlib.pyplot as plt\n",
    "%matplotlib inline\n",
    "import seaborn as sns\n",
    "import statsmodels.api as sm\n",
    "# add seaborn viz\n",
    "sns.set()\n",
    "\n",
    "import plotly\n",
    "\n",
    "import plotly.graph_objects as go"
   ]
  },
  {
   "cell_type": "code",
   "execution_count": 46,
   "metadata": {},
   "outputs": [
    {
     "data": {
      "text/html": [
       "<svg  width=\"550\" height=\"55\"><rect x=\"0\" y=\"0\" width=\"55\" height=\"55\" style=\"fill:#a1c9f4;stroke-width:2;stroke:rgb(255,255,255)\"/><rect x=\"55\" y=\"0\" width=\"55\" height=\"55\" style=\"fill:#ffb482;stroke-width:2;stroke:rgb(255,255,255)\"/><rect x=\"110\" y=\"0\" width=\"55\" height=\"55\" style=\"fill:#8de5a1;stroke-width:2;stroke:rgb(255,255,255)\"/><rect x=\"165\" y=\"0\" width=\"55\" height=\"55\" style=\"fill:#ff9f9b;stroke-width:2;stroke:rgb(255,255,255)\"/><rect x=\"220\" y=\"0\" width=\"55\" height=\"55\" style=\"fill:#d0bbff;stroke-width:2;stroke:rgb(255,255,255)\"/><rect x=\"275\" y=\"0\" width=\"55\" height=\"55\" style=\"fill:#debb9b;stroke-width:2;stroke:rgb(255,255,255)\"/><rect x=\"330\" y=\"0\" width=\"55\" height=\"55\" style=\"fill:#fab0e4;stroke-width:2;stroke:rgb(255,255,255)\"/><rect x=\"385\" y=\"0\" width=\"55\" height=\"55\" style=\"fill:#cfcfcf;stroke-width:2;stroke:rgb(255,255,255)\"/><rect x=\"440\" y=\"0\" width=\"55\" height=\"55\" style=\"fill:#fffea3;stroke-width:2;stroke:rgb(255,255,255)\"/><rect x=\"495\" y=\"0\" width=\"55\" height=\"55\" style=\"fill:#b9f2f0;stroke-width:2;stroke:rgb(255,255,255)\"/></svg>"
      ],
      "text/plain": [
       "[(0.6313725490196078, 0.788235294117647, 0.9568627450980393),\n",
       " (1.0, 0.7058823529411765, 0.5098039215686274),\n",
       " (0.5529411764705883, 0.8980392156862745, 0.6313725490196078),\n",
       " (1.0, 0.6235294117647059, 0.6078431372549019),\n",
       " (0.8156862745098039, 0.7333333333333333, 1.0),\n",
       " (0.8705882352941177, 0.7333333333333333, 0.6078431372549019),\n",
       " (0.9803921568627451, 0.6901960784313725, 0.8941176470588236),\n",
       " (0.8117647058823529, 0.8117647058823529, 0.8117647058823529),\n",
       " (1.0, 0.996078431372549, 0.6392156862745098),\n",
       " (0.7254901960784313, 0.9490196078431372, 0.9411764705882353)]"
      ]
     },
     "execution_count": 46,
     "metadata": {},
     "output_type": "execute_result"
    }
   ],
   "source": [
    "colorscheme = ['cornflowerblue', 'lightcoral','bisque', 'plum', 'palegreen','darkgray']\n",
    "# sns.color_palette(\"pastel\")"
   ]
  },
  {
   "cell_type": "code",
   "execution_count": 3,
   "metadata": {},
   "outputs": [
    {
     "data": {
      "text/html": [
       "<div>\n",
       "<style scoped>\n",
       "    .dataframe tbody tr th:only-of-type {\n",
       "        vertical-align: middle;\n",
       "    }\n",
       "\n",
       "    .dataframe tbody tr th {\n",
       "        vertical-align: top;\n",
       "    }\n",
       "\n",
       "    .dataframe thead th {\n",
       "        text-align: right;\n",
       "    }\n",
       "</style>\n",
       "<table border=\"1\" class=\"dataframe\">\n",
       "  <thead>\n",
       "    <tr style=\"text-align: right;\">\n",
       "      <th></th>\n",
       "      <th>id</th>\n",
       "      <th>validatorindex</th>\n",
       "      <th>name</th>\n",
       "      <th>activationeligibilityepoch</th>\n",
       "      <th>activationepoch</th>\n",
       "      <th>exitepoch</th>\n",
       "      <th>withdrawableepoch</th>\n",
       "      <th>balance</th>\n",
       "      <th>effectivebalance</th>\n",
       "      <th>lastattestationslot</th>\n",
       "      <th>pubkey</th>\n",
       "      <th>slashed</th>\n",
       "      <th>withdrawalcredentials</th>\n",
       "    </tr>\n",
       "  </thead>\n",
       "  <tbody>\n",
       "    <tr>\n",
       "      <th>0</th>\n",
       "      <td>1</td>\n",
       "      <td>0</td>\n",
       "      <td>NaN</td>\n",
       "      <td>0</td>\n",
       "      <td>0</td>\n",
       "      <td>9223372036854775807</td>\n",
       "      <td>9223372036854775807</td>\n",
       "      <td>31751489943</td>\n",
       "      <td>31000000000</td>\n",
       "      <td>476737</td>\n",
       "      <td>0x8fcf28896a85e5e76ee9e508438e23e7253da1a23a65...</td>\n",
       "      <td>NaN</td>\n",
       "      <td>0x0010361af430aa7ab4a9567eaaca50ec5e02315ca151...</td>\n",
       "    </tr>\n",
       "    <tr>\n",
       "      <th>1</th>\n",
       "      <td>2</td>\n",
       "      <td>1</td>\n",
       "      <td>NaN</td>\n",
       "      <td>0</td>\n",
       "      <td>0</td>\n",
       "      <td>9223372036854775807</td>\n",
       "      <td>9223372036854775807</td>\n",
       "      <td>94015709868</td>\n",
       "      <td>32000000000</td>\n",
       "      <td>0</td>\n",
       "      <td>0x873e73ee8b3e4fcf1d2fb0f1036ba996ac9910b5b348...</td>\n",
       "      <td>NaN</td>\n",
       "      <td>0x00b8cdcf79ba7e74300a07e9d8f8121dd0d8dd11dcfd...</td>\n",
       "    </tr>\n",
       "    <tr>\n",
       "      <th>2</th>\n",
       "      <td>3</td>\n",
       "      <td>2</td>\n",
       "      <td>NaN</td>\n",
       "      <td>0</td>\n",
       "      <td>0</td>\n",
       "      <td>9223372036854775807</td>\n",
       "      <td>9223372036854775807</td>\n",
       "      <td>30091773156</td>\n",
       "      <td>30000000000</td>\n",
       "      <td>0</td>\n",
       "      <td>0x8c2f535d3bec65f95cb4ba455566e4ec3de8da5c13a6...</td>\n",
       "      <td>NaN</td>\n",
       "      <td>0x006490500934b8b1876401dc09b7904d04c0897a9a28...</td>\n",
       "    </tr>\n",
       "    <tr>\n",
       "      <th>3</th>\n",
       "      <td>4</td>\n",
       "      <td>3</td>\n",
       "      <td>carlbeek | Lighthouse ??</td>\n",
       "      <td>0</td>\n",
       "      <td>0</td>\n",
       "      <td>9223372036854775807</td>\n",
       "      <td>9223372036854775807</td>\n",
       "      <td>31445974991</td>\n",
       "      <td>31000000000</td>\n",
       "      <td>476758</td>\n",
       "      <td>0xa8d9b5b62cc31149ad58a281a2293cd3f4dca11855c9...</td>\n",
       "      <td>NaN</td>\n",
       "      <td>0x002f5bc32089b840a516c800c3c597bff24536c6c7c9...</td>\n",
       "    </tr>\n",
       "    <tr>\n",
       "      <th>4</th>\n",
       "      <td>5</td>\n",
       "      <td>4</td>\n",
       "      <td>NaN</td>\n",
       "      <td>0</td>\n",
       "      <td>0</td>\n",
       "      <td>5223</td>\n",
       "      <td>5479</td>\n",
       "      <td>31403584679</td>\n",
       "      <td>31000000000</td>\n",
       "      <td>0</td>\n",
       "      <td>0xadf943279435f1c194add1cdfe99e3fde5284d0451a6...</td>\n",
       "      <td>NaN</td>\n",
       "      <td>0x0010361af430aa7ab4a9567eaaca50ec5e02315ca151...</td>\n",
       "    </tr>\n",
       "  </tbody>\n",
       "</table>\n",
       "</div>"
      ],
      "text/plain": [
       "   id  validatorindex                      name  activationeligibilityepoch  \\\n",
       "0   1               0                       NaN                           0   \n",
       "1   2               1                       NaN                           0   \n",
       "2   3               2                       NaN                           0   \n",
       "3   4               3  carlbeek | Lighthouse ??                           0   \n",
       "4   5               4                       NaN                           0   \n",
       "\n",
       "   activationepoch            exitepoch    withdrawableepoch      balance  \\\n",
       "0                0  9223372036854775807  9223372036854775807  31751489943   \n",
       "1                0  9223372036854775807  9223372036854775807  94015709868   \n",
       "2                0  9223372036854775807  9223372036854775807  30091773156   \n",
       "3                0  9223372036854775807  9223372036854775807  31445974991   \n",
       "4                0                 5223                 5479  31403584679   \n",
       "\n",
       "   effectivebalance  lastattestationslot  \\\n",
       "0       31000000000               476737   \n",
       "1       32000000000                    0   \n",
       "2       30000000000                    0   \n",
       "3       31000000000               476758   \n",
       "4       31000000000                    0   \n",
       "\n",
       "                                              pubkey  slashed  \\\n",
       "0  0x8fcf28896a85e5e76ee9e508438e23e7253da1a23a65...      NaN   \n",
       "1  0x873e73ee8b3e4fcf1d2fb0f1036ba996ac9910b5b348...      NaN   \n",
       "2  0x8c2f535d3bec65f95cb4ba455566e4ec3de8da5c13a6...      NaN   \n",
       "3  0xa8d9b5b62cc31149ad58a281a2293cd3f4dca11855c9...      NaN   \n",
       "4  0xadf943279435f1c194add1cdfe99e3fde5284d0451a6...      NaN   \n",
       "\n",
       "                               withdrawalcredentials  \n",
       "0  0x0010361af430aa7ab4a9567eaaca50ec5e02315ca151...  \n",
       "1  0x00b8cdcf79ba7e74300a07e9d8f8121dd0d8dd11dcfd...  \n",
       "2  0x006490500934b8b1876401dc09b7904d04c0897a9a28...  \n",
       "3  0x002f5bc32089b840a516c800c3c597bff24536c6c7c9...  \n",
       "4  0x0010361af430aa7ab4a9567eaaca50ec5e02315ca151...  "
      ]
     },
     "execution_count": 3,
     "metadata": {},
     "output_type": "execute_result"
    }
   ],
   "source": [
    "validators = pd.read_csv('validator.csv',encoding='cp1252')\n",
    "validators.head()"
   ]
  },
  {
   "cell_type": "code",
   "execution_count": 5,
   "metadata": {},
   "outputs": [
    {
     "data": {
      "text/plain": [
       "Text(0, 0.5, 'validators')"
      ]
     },
     "execution_count": 5,
     "metadata": {},
     "output_type": "execute_result"
    },
    {
     "data": {
      "image/png": "[encoded data removed]",
      "text/plain": [
       "<Figure size 1008x288 with 1 Axes>"
      ]
     },
     "metadata": {
      "needs_background": "light"
     },
     "output_type": "display_data"
    }
   ],
   "source": [
    "#add activation lag\n",
    "validators['activation_lag'] = validators['activationepoch']  - validators['activationeligibilityepoch']\n",
    "#filter out entires at 0 and sort\n",
    "validators = validators.loc[validators['activationeligibilityepoch'] > 0]\n",
    "validators.sort_values(by=['activation_lag'], ascending=False)\n",
    "#histogram\n",
    "#validators\n",
    "validators['activation_lag'].hist(bins=50, figsize=(14,4))\n",
    "pl.xlabel('activation lag duration')\n",
    "pl.ylabel('validators')"
   ]
  },
  {
   "cell_type": "code",
   "execution_count": 6,
   "metadata": {},
   "outputs": [
    {
     "data": {
      "text/plain": [
       "Text(0, 0.5, 'average_activation_lag_in_epochs')"
      ]
     },
     "execution_count": 6,
     "metadata": {},
     "output_type": "execute_result"
    },
    {
     "data": {
      "image/png": "[encoded data removed]",
      "text/plain": [
       "<Figure size 1008x288 with 1 Axes>"
      ]
     },
     "metadata": {
      "needs_background": "light"
     },
     "output_type": "display_data"
    }
   ],
   "source": [
    "# pivot for avg activation lag\n",
    "activation_lag_series = pd.pivot_table(validators, index=[\"activationeligibilityepoch\"], values=[\"activation_lag\"], aggfunc='mean')\n",
    "activation_lag_series.index.name = None\n",
    "activation_lag_series['epoch'] = activation_lag_series.index\n",
    "#filter out entires at 0 and sort\n",
    "activation_lag_series = activation_lag_series.loc[activation_lag_series['activation_lag'] > 0]\n",
    "# plot time series\n",
    "activation_lag_series.plot(kind='area',x='epoch', y='activation_lag', figsize=(14,4))\n",
    "pl.xlabel(\"epoch\")\n",
    "pl.ylabel(\"average_activation_lag_in_epochs\")"
   ]
  },
  {
   "cell_type": "code",
   "execution_count": 10,
   "metadata": {},
   "outputs": [
    {
     "data": {
      "text/html": [
       "<div>\n",
       "<style scoped>\n",
       "    .dataframe tbody tr th:only-of-type {\n",
       "        vertical-align: middle;\n",
       "    }\n",
       "\n",
       "    .dataframe tbody tr th {\n",
       "        vertical-align: top;\n",
       "    }\n",
       "\n",
       "    .dataframe thead th {\n",
       "        text-align: right;\n",
       "    }\n",
       "</style>\n",
       "<table border=\"1\" class=\"dataframe\">\n",
       "  <thead>\n",
       "    <tr style=\"text-align: right;\">\n",
       "      <th></th>\n",
       "      <th>id</th>\n",
       "      <th>validatorindex</th>\n",
       "      <th>name</th>\n",
       "      <th>activationeligibilityepoch</th>\n",
       "      <th>activationepoch</th>\n",
       "      <th>exitepoch</th>\n",
       "      <th>withdrawableepoch</th>\n",
       "      <th>balance</th>\n",
       "      <th>effectivebalance</th>\n",
       "      <th>lastattestationslot</th>\n",
       "      <th>pubkey</th>\n",
       "      <th>slashed</th>\n",
       "      <th>withdrawalcredentials</th>\n",
       "      <th>activation_lag</th>\n",
       "      <th>exit_lag</th>\n",
       "    </tr>\n",
       "  </thead>\n",
       "  <tbody>\n",
       "    <tr>\n",
       "      <th>20084</th>\n",
       "      <td>20085</td>\n",
       "      <td>20084</td>\n",
       "      <td>NaN</td>\n",
       "      <td>32</td>\n",
       "      <td>38</td>\n",
       "      <td>2077</td>\n",
       "      <td>2333</td>\n",
       "      <td>31886697333</td>\n",
       "      <td>32000000000</td>\n",
       "      <td>0</td>\n",
       "      <td>0xa0d46f3e977da3c53d46dcff9a4f7e6b4895cf9fb66e...</td>\n",
       "      <td>NaN</td>\n",
       "      <td>0x00f51a03211451f1cbb0a6b609cfefdb777b837e3344...</td>\n",
       "      <td>6</td>\n",
       "      <td>256</td>\n",
       "    </tr>\n",
       "    <tr>\n",
       "      <th>20092</th>\n",
       "      <td>20093</td>\n",
       "      <td>20092</td>\n",
       "      <td>NaN</td>\n",
       "      <td>32</td>\n",
       "      <td>40</td>\n",
       "      <td>2077</td>\n",
       "      <td>2333</td>\n",
       "      <td>31886818485</td>\n",
       "      <td>32000000000</td>\n",
       "      <td>0</td>\n",
       "      <td>0xb399c55dbbf12e797d162e0e7c11d86aa69f4b85c6b4...</td>\n",
       "      <td>NaN</td>\n",
       "      <td>0x00e7f44e471edfddd89561d178292f87d890ac65214b...</td>\n",
       "      <td>8</td>\n",
       "      <td>256</td>\n",
       "    </tr>\n",
       "    <tr>\n",
       "      <th>20093</th>\n",
       "      <td>20094</td>\n",
       "      <td>20093</td>\n",
       "      <td>NaN</td>\n",
       "      <td>32</td>\n",
       "      <td>40</td>\n",
       "      <td>2077</td>\n",
       "      <td>2333</td>\n",
       "      <td>31886818485</td>\n",
       "      <td>32000000000</td>\n",
       "      <td>0</td>\n",
       "      <td>0x8b18cf17f1a4b864fdb16360b207d5d3f5a04f188649...</td>\n",
       "      <td>NaN</td>\n",
       "      <td>0x00887bb4ca8e42b366e7960634dad160eb526590cd49...</td>\n",
       "      <td>8</td>\n",
       "      <td>256</td>\n",
       "    </tr>\n",
       "    <tr>\n",
       "      <th>20094</th>\n",
       "      <td>20095</td>\n",
       "      <td>20094</td>\n",
       "      <td>NaN</td>\n",
       "      <td>32</td>\n",
       "      <td>40</td>\n",
       "      <td>2077</td>\n",
       "      <td>2333</td>\n",
       "      <td>31886818485</td>\n",
       "      <td>32000000000</td>\n",
       "      <td>0</td>\n",
       "      <td>0x986117db6e7731541fe367fe9c9acf5c281c5bec6d92...</td>\n",
       "      <td>NaN</td>\n",
       "      <td>0x0058c293917edf5cd7bfb1ecebc1bdd60aaf410c3af4...</td>\n",
       "      <td>8</td>\n",
       "      <td>256</td>\n",
       "    </tr>\n",
       "    <tr>\n",
       "      <th>20096</th>\n",
       "      <td>20097</td>\n",
       "      <td>20096</td>\n",
       "      <td>NaN</td>\n",
       "      <td>32</td>\n",
       "      <td>41</td>\n",
       "      <td>2078</td>\n",
       "      <td>2334</td>\n",
       "      <td>31886827887</td>\n",
       "      <td>32000000000</td>\n",
       "      <td>0</td>\n",
       "      <td>0xaacad7c679b7aa6f3bfed3c288307114f8a9b400b053...</td>\n",
       "      <td>NaN</td>\n",
       "      <td>0x00c467081ecca75c17f2d084b4672b63c4b692a0806f...</td>\n",
       "      <td>9</td>\n",
       "      <td>256</td>\n",
       "    </tr>\n",
       "  </tbody>\n",
       "</table>\n",
       "</div>"
      ],
      "text/plain": [
       "          id  validatorindex name  activationeligibilityepoch  \\\n",
       "20084  20085           20084  NaN                          32   \n",
       "20092  20093           20092  NaN                          32   \n",
       "20093  20094           20093  NaN                          32   \n",
       "20094  20095           20094  NaN                          32   \n",
       "20096  20097           20096  NaN                          32   \n",
       "\n",
       "       activationepoch  exitepoch  withdrawableepoch      balance  \\\n",
       "20084               38       2077               2333  31886697333   \n",
       "20092               40       2077               2333  31886818485   \n",
       "20093               40       2077               2333  31886818485   \n",
       "20094               40       2077               2333  31886818485   \n",
       "20096               41       2078               2334  31886827887   \n",
       "\n",
       "       effectivebalance  lastattestationslot  \\\n",
       "20084       32000000000                    0   \n",
       "20092       32000000000                    0   \n",
       "20093       32000000000                    0   \n",
       "20094       32000000000                    0   \n",
       "20096       32000000000                    0   \n",
       "\n",
       "                                                  pubkey  slashed  \\\n",
       "20084  0xa0d46f3e977da3c53d46dcff9a4f7e6b4895cf9fb66e...      NaN   \n",
       "20092  0xb399c55dbbf12e797d162e0e7c11d86aa69f4b85c6b4...      NaN   \n",
       "20093  0x8b18cf17f1a4b864fdb16360b207d5d3f5a04f188649...      NaN   \n",
       "20094  0x986117db6e7731541fe367fe9c9acf5c281c5bec6d92...      NaN   \n",
       "20096  0xaacad7c679b7aa6f3bfed3c288307114f8a9b400b053...      NaN   \n",
       "\n",
       "                                   withdrawalcredentials  activation_lag  \\\n",
       "20084  0x00f51a03211451f1cbb0a6b609cfefdb777b837e3344...               6   \n",
       "20092  0x00e7f44e471edfddd89561d178292f87d890ac65214b...               8   \n",
       "20093  0x00887bb4ca8e42b366e7960634dad160eb526590cd49...               8   \n",
       "20094  0x0058c293917edf5cd7bfb1ecebc1bdd60aaf410c3af4...               8   \n",
       "20096  0x00c467081ecca75c17f2d084b4672b63c4b692a0806f...               9   \n",
       "\n",
       "       exit_lag  \n",
       "20084       256  \n",
       "20092       256  \n",
       "20093       256  \n",
       "20094       256  \n",
       "20096       256  "
      ]
     },
     "execution_count": 10,
     "metadata": {},
     "output_type": "execute_result"
    }
   ],
   "source": [
    "validators.head()"
   ]
  },
  {
   "cell_type": "code",
   "execution_count": 13,
   "metadata": {},
   "outputs": [
    {
     "data": {
      "text/html": [
       "<div>\n",
       "<style scoped>\n",
       "    .dataframe tbody tr th:only-of-type {\n",
       "        vertical-align: middle;\n",
       "    }\n",
       "\n",
       "    .dataframe tbody tr th {\n",
       "        vertical-align: top;\n",
       "    }\n",
       "\n",
       "    .dataframe thead th {\n",
       "        text-align: right;\n",
       "    }\n",
       "</style>\n",
       "<table border=\"1\" class=\"dataframe\">\n",
       "  <thead>\n",
       "    <tr style=\"text-align: right;\">\n",
       "      <th></th>\n",
       "      <th>validatorindex</th>\n",
       "      <th>name</th>\n",
       "      <th>identifier</th>\n",
       "      <th>eth1_deposit_addr</th>\n",
       "      <th>with_key_match</th>\n",
       "      <th>client_identifier</th>\n",
       "      <th>activationeligibilityepoch</th>\n",
       "      <th>activationepoch</th>\n",
       "      <th>exitepoch</th>\n",
       "      <th>withdrawableepoch</th>\n",
       "      <th>balance</th>\n",
       "      <th>effectivebalance</th>\n",
       "      <th>lastattestationslot</th>\n",
       "      <th>pubkey</th>\n",
       "      <th>slashed</th>\n",
       "      <th>withdrawalcredentials</th>\n",
       "      <th>withdrawa_credentials_updated</th>\n",
       "    </tr>\n",
       "  </thead>\n",
       "  <tbody>\n",
       "    <tr>\n",
       "      <th>0</th>\n",
       "      <td>3</td>\n",
       "      <td>NaN</td>\n",
       "      <td>NaN</td>\n",
       "      <td>NaN</td>\n",
       "      <td>NaN</td>\n",
       "      <td>lighthouse</td>\n",
       "      <td>NaN</td>\n",
       "      <td>NaN</td>\n",
       "      <td>NaN</td>\n",
       "      <td>NaN</td>\n",
       "      <td>NaN</td>\n",
       "      <td>NaN</td>\n",
       "      <td>NaN</td>\n",
       "      <td>NaN</td>\n",
       "      <td>NaN</td>\n",
       "      <td>NaN</td>\n",
       "      <td>NaN</td>\n",
       "    </tr>\n",
       "    <tr>\n",
       "      <th>1</th>\n",
       "      <td>1027</td>\n",
       "      <td>NaN</td>\n",
       "      <td>NaN</td>\n",
       "      <td>NaN</td>\n",
       "      <td>NaN</td>\n",
       "      <td>lighthouse</td>\n",
       "      <td>NaN</td>\n",
       "      <td>NaN</td>\n",
       "      <td>NaN</td>\n",
       "      <td>NaN</td>\n",
       "      <td>NaN</td>\n",
       "      <td>NaN</td>\n",
       "      <td>NaN</td>\n",
       "      <td>NaN</td>\n",
       "      <td>NaN</td>\n",
       "      <td>NaN</td>\n",
       "      <td>NaN</td>\n",
       "    </tr>\n",
       "    <tr>\n",
       "      <th>2</th>\n",
       "      <td>1031</td>\n",
       "      <td>NaN</td>\n",
       "      <td>NaN</td>\n",
       "      <td>NaN</td>\n",
       "      <td>NaN</td>\n",
       "      <td>lighthouse</td>\n",
       "      <td>NaN</td>\n",
       "      <td>NaN</td>\n",
       "      <td>NaN</td>\n",
       "      <td>NaN</td>\n",
       "      <td>NaN</td>\n",
       "      <td>NaN</td>\n",
       "      <td>NaN</td>\n",
       "      <td>NaN</td>\n",
       "      <td>NaN</td>\n",
       "      <td>NaN</td>\n",
       "      <td>NaN</td>\n",
       "    </tr>\n",
       "    <tr>\n",
       "      <th>3</th>\n",
       "      <td>1032</td>\n",
       "      <td>NaN</td>\n",
       "      <td>NaN</td>\n",
       "      <td>NaN</td>\n",
       "      <td>NaN</td>\n",
       "      <td>lighthouse</td>\n",
       "      <td>NaN</td>\n",
       "      <td>NaN</td>\n",
       "      <td>NaN</td>\n",
       "      <td>NaN</td>\n",
       "      <td>NaN</td>\n",
       "      <td>NaN</td>\n",
       "      <td>NaN</td>\n",
       "      <td>NaN</td>\n",
       "      <td>NaN</td>\n",
       "      <td>NaN</td>\n",
       "      <td>NaN</td>\n",
       "    </tr>\n",
       "    <tr>\n",
       "      <th>4</th>\n",
       "      <td>1033</td>\n",
       "      <td>NaN</td>\n",
       "      <td>NaN</td>\n",
       "      <td>NaN</td>\n",
       "      <td>NaN</td>\n",
       "      <td>lighthouse</td>\n",
       "      <td>NaN</td>\n",
       "      <td>NaN</td>\n",
       "      <td>NaN</td>\n",
       "      <td>NaN</td>\n",
       "      <td>NaN</td>\n",
       "      <td>NaN</td>\n",
       "      <td>NaN</td>\n",
       "      <td>NaN</td>\n",
       "      <td>NaN</td>\n",
       "      <td>NaN</td>\n",
       "      <td>NaN</td>\n",
       "    </tr>\n",
       "  </tbody>\n",
       "</table>\n",
       "</div>"
      ],
      "text/plain": [
       "   validatorindex name identifier eth1_deposit_addr with_key_match  \\\n",
       "0               3  NaN        NaN               NaN            NaN   \n",
       "1            1027  NaN        NaN               NaN            NaN   \n",
       "2            1031  NaN        NaN               NaN            NaN   \n",
       "3            1032  NaN        NaN               NaN            NaN   \n",
       "4            1033  NaN        NaN               NaN            NaN   \n",
       "\n",
       "  client_identifier  activationeligibilityepoch  activationepoch  exitepoch  \\\n",
       "0        lighthouse                         NaN              NaN        NaN   \n",
       "1        lighthouse                         NaN              NaN        NaN   \n",
       "2        lighthouse                         NaN              NaN        NaN   \n",
       "3        lighthouse                         NaN              NaN        NaN   \n",
       "4        lighthouse                         NaN              NaN        NaN   \n",
       "\n",
       "   withdrawableepoch  balance  effectivebalance  lastattestationslot pubkey  \\\n",
       "0                NaN      NaN               NaN                  NaN    NaN   \n",
       "1                NaN      NaN               NaN                  NaN    NaN   \n",
       "2                NaN      NaN               NaN                  NaN    NaN   \n",
       "3                NaN      NaN               NaN                  NaN    NaN   \n",
       "4                NaN      NaN               NaN                  NaN    NaN   \n",
       "\n",
       "   slashed withdrawalcredentials withdrawa_credentials_updated  \n",
       "0      NaN                   NaN                           NaN  \n",
       "1      NaN                   NaN                           NaN  \n",
       "2      NaN                   NaN                           NaN  \n",
       "3      NaN                   NaN                           NaN  \n",
       "4      NaN                   NaN                           NaN  "
      ]
     },
     "execution_count": 13,
     "metadata": {},
     "output_type": "execute_result"
    }
   ],
   "source": [
    "df_identified_validators = pd.read_csv('new_validators_by_indentifier_master.csv')\n",
    "df_identified_validators.head()"
   ]
  },
  {
   "cell_type": "code",
   "execution_count": 36,
   "metadata": {},
   "outputs": [],
   "source": [
    "validators_with_client = validators.merge(df_identified_validators[['validatorindex', 'client_identifier']], on='validatorindex', how='left')"
   ]
  },
  {
   "cell_type": "code",
   "execution_count": 37,
   "metadata": {},
   "outputs": [
    {
     "data": {
      "text/html": [
       "<div>\n",
       "<style scoped>\n",
       "    .dataframe tbody tr th:only-of-type {\n",
       "        vertical-align: middle;\n",
       "    }\n",
       "\n",
       "    .dataframe tbody tr th {\n",
       "        vertical-align: top;\n",
       "    }\n",
       "\n",
       "    .dataframe thead th {\n",
       "        text-align: right;\n",
       "    }\n",
       "</style>\n",
       "<table border=\"1\" class=\"dataframe\">\n",
       "  <thead>\n",
       "    <tr style=\"text-align: right;\">\n",
       "      <th></th>\n",
       "      <th>id</th>\n",
       "      <th>validatorindex</th>\n",
       "      <th>name</th>\n",
       "      <th>activationeligibilityepoch</th>\n",
       "      <th>activationepoch</th>\n",
       "      <th>exitepoch</th>\n",
       "      <th>withdrawableepoch</th>\n",
       "      <th>balance</th>\n",
       "      <th>effectivebalance</th>\n",
       "      <th>lastattestationslot</th>\n",
       "      <th>pubkey</th>\n",
       "      <th>slashed</th>\n",
       "      <th>withdrawalcredentials</th>\n",
       "      <th>activation_lag</th>\n",
       "      <th>exit_lag</th>\n",
       "      <th>client_identifier</th>\n",
       "    </tr>\n",
       "  </thead>\n",
       "  <tbody>\n",
       "    <tr>\n",
       "      <th>0</th>\n",
       "      <td>20085</td>\n",
       "      <td>20084</td>\n",
       "      <td>Unknown</td>\n",
       "      <td>32</td>\n",
       "      <td>38</td>\n",
       "      <td>2077</td>\n",
       "      <td>2333</td>\n",
       "      <td>31886697333</td>\n",
       "      <td>32000000000</td>\n",
       "      <td>0</td>\n",
       "      <td>0xa0d46f3e977da3c53d46dcff9a4f7e6b4895cf9fb66e...</td>\n",
       "      <td>Unknown</td>\n",
       "      <td>0x00f51a03211451f1cbb0a6b609cfefdb777b837e3344...</td>\n",
       "      <td>6</td>\n",
       "      <td>256</td>\n",
       "      <td>Unknown</td>\n",
       "    </tr>\n",
       "    <tr>\n",
       "      <th>1</th>\n",
       "      <td>20093</td>\n",
       "      <td>20092</td>\n",
       "      <td>Unknown</td>\n",
       "      <td>32</td>\n",
       "      <td>40</td>\n",
       "      <td>2077</td>\n",
       "      <td>2333</td>\n",
       "      <td>31886818485</td>\n",
       "      <td>32000000000</td>\n",
       "      <td>0</td>\n",
       "      <td>0xb399c55dbbf12e797d162e0e7c11d86aa69f4b85c6b4...</td>\n",
       "      <td>Unknown</td>\n",
       "      <td>0x00e7f44e471edfddd89561d178292f87d890ac65214b...</td>\n",
       "      <td>8</td>\n",
       "      <td>256</td>\n",
       "      <td>Unknown</td>\n",
       "    </tr>\n",
       "    <tr>\n",
       "      <th>2</th>\n",
       "      <td>20094</td>\n",
       "      <td>20093</td>\n",
       "      <td>Unknown</td>\n",
       "      <td>32</td>\n",
       "      <td>40</td>\n",
       "      <td>2077</td>\n",
       "      <td>2333</td>\n",
       "      <td>31886818485</td>\n",
       "      <td>32000000000</td>\n",
       "      <td>0</td>\n",
       "      <td>0x8b18cf17f1a4b864fdb16360b207d5d3f5a04f188649...</td>\n",
       "      <td>Unknown</td>\n",
       "      <td>0x00887bb4ca8e42b366e7960634dad160eb526590cd49...</td>\n",
       "      <td>8</td>\n",
       "      <td>256</td>\n",
       "      <td>Unknown</td>\n",
       "    </tr>\n",
       "    <tr>\n",
       "      <th>3</th>\n",
       "      <td>20095</td>\n",
       "      <td>20094</td>\n",
       "      <td>Unknown</td>\n",
       "      <td>32</td>\n",
       "      <td>40</td>\n",
       "      <td>2077</td>\n",
       "      <td>2333</td>\n",
       "      <td>31886818485</td>\n",
       "      <td>32000000000</td>\n",
       "      <td>0</td>\n",
       "      <td>0x986117db6e7731541fe367fe9c9acf5c281c5bec6d92...</td>\n",
       "      <td>Unknown</td>\n",
       "      <td>0x0058c293917edf5cd7bfb1ecebc1bdd60aaf410c3af4...</td>\n",
       "      <td>8</td>\n",
       "      <td>256</td>\n",
       "      <td>Unknown</td>\n",
       "    </tr>\n",
       "    <tr>\n",
       "      <th>4</th>\n",
       "      <td>20097</td>\n",
       "      <td>20096</td>\n",
       "      <td>Unknown</td>\n",
       "      <td>32</td>\n",
       "      <td>41</td>\n",
       "      <td>2078</td>\n",
       "      <td>2334</td>\n",
       "      <td>31886827887</td>\n",
       "      <td>32000000000</td>\n",
       "      <td>0</td>\n",
       "      <td>0xaacad7c679b7aa6f3bfed3c288307114f8a9b400b053...</td>\n",
       "      <td>Unknown</td>\n",
       "      <td>0x00c467081ecca75c17f2d084b4672b63c4b692a0806f...</td>\n",
       "      <td>9</td>\n",
       "      <td>256</td>\n",
       "      <td>Unknown</td>\n",
       "    </tr>\n",
       "  </tbody>\n",
       "</table>\n",
       "</div>"
      ],
      "text/plain": [
       "      id  validatorindex     name  activationeligibilityepoch  \\\n",
       "0  20085           20084  Unknown                          32   \n",
       "1  20093           20092  Unknown                          32   \n",
       "2  20094           20093  Unknown                          32   \n",
       "3  20095           20094  Unknown                          32   \n",
       "4  20097           20096  Unknown                          32   \n",
       "\n",
       "   activationepoch  exitepoch  withdrawableepoch      balance  \\\n",
       "0               38       2077               2333  31886697333   \n",
       "1               40       2077               2333  31886818485   \n",
       "2               40       2077               2333  31886818485   \n",
       "3               40       2077               2333  31886818485   \n",
       "4               41       2078               2334  31886827887   \n",
       "\n",
       "   effectivebalance  lastattestationslot  \\\n",
       "0       32000000000                    0   \n",
       "1       32000000000                    0   \n",
       "2       32000000000                    0   \n",
       "3       32000000000                    0   \n",
       "4       32000000000                    0   \n",
       "\n",
       "                                              pubkey  slashed  \\\n",
       "0  0xa0d46f3e977da3c53d46dcff9a4f7e6b4895cf9fb66e...  Unknown   \n",
       "1  0xb399c55dbbf12e797d162e0e7c11d86aa69f4b85c6b4...  Unknown   \n",
       "2  0x8b18cf17f1a4b864fdb16360b207d5d3f5a04f188649...  Unknown   \n",
       "3  0x986117db6e7731541fe367fe9c9acf5c281c5bec6d92...  Unknown   \n",
       "4  0xaacad7c679b7aa6f3bfed3c288307114f8a9b400b053...  Unknown   \n",
       "\n",
       "                               withdrawalcredentials  activation_lag  \\\n",
       "0  0x00f51a03211451f1cbb0a6b609cfefdb777b837e3344...               6   \n",
       "1  0x00e7f44e471edfddd89561d178292f87d890ac65214b...               8   \n",
       "2  0x00887bb4ca8e42b366e7960634dad160eb526590cd49...               8   \n",
       "3  0x0058c293917edf5cd7bfb1ecebc1bdd60aaf410c3af4...               8   \n",
       "4  0x00c467081ecca75c17f2d084b4672b63c4b692a0806f...               9   \n",
       "\n",
       "   exit_lag client_identifier  \n",
       "0       256           Unknown  \n",
       "1       256           Unknown  \n",
       "2       256           Unknown  \n",
       "3       256           Unknown  \n",
       "4       256           Unknown  "
      ]
     },
     "execution_count": 37,
     "metadata": {},
     "output_type": "execute_result"
    }
   ],
   "source": [
    "validators_with_client.fillna('Unknown', inplace=True)\n",
    "validators_with_client.head()"
   ]
  },
  {
   "cell_type": "code",
   "execution_count": 54,
   "metadata": {},
   "outputs": [
    {
     "data": {
      "text/plain": [
       "<matplotlib.axes._subplots.AxesSubplot at 0x7fd52a7e6130>"
      ]
     },
     "execution_count": 54,
     "metadata": {},
     "output_type": "execute_result"
    },
    {
     "data": {
      "image/png": "[encoded data removed]",
      "text/plain": [
       "<Figure size 720x504 with 1 Axes>"
      ]
     },
     "metadata": {},
     "output_type": "display_data"
    }
   ],
   "source": [
    "validators_with_client_no_unknown = validators_with_client[(validators_with_client['client_identifier']!='unknown') & (validators_with_client['client_identifier']!='Unknown')]\n",
    "validators_with_client_no_unknown.groupby('client_identifier')['activation_lag'].mean().plot(kind='bar', title='Average Activation Lag By Identified Clients', ylabel='activation lag duration', color=colorscheme, figsize=[10,7])"
   ]
  },
  {
   "cell_type": "code",
   "execution_count": null,
   "metadata": {},
   "outputs": [],
   "source": []
  },
  {
   "cell_type": "code",
   "execution_count": 35,
   "metadata": {},
   "outputs": [
    {
     "data": {
      "text/plain": [
       "<matplotlib.axes._subplots.AxesSubplot at 0x7fd52db452b0>"
      ]
     },
     "execution_count": 35,
     "metadata": {},
     "output_type": "execute_result"
    },
    {
     "data": {
      "image/png": "[encoded data removed]",
      "text/plain": [
       "<Figure size 432x288 with 1 Axes>"
      ]
     },
     "metadata": {
      "needs_background": "light"
     },
     "output_type": "display_data"
    }
   ],
   "source": [
    "# #filter out entires at 0 and sort\n",
    "# validators_with_client = validators.loc[validators_with_client['activationeligibilityepoch'] > 0]\n",
    "# validators_with_client.sort_values(by=['activation_lag'], ascending=False)\n",
    "#histogram\n",
    "#validators\n",
    "# validators_with_client[['activation_lag', 'client_identifier']].hist(bins=50, figsize=(14,4), stacked=True)\n",
    "# pl.xlabel('activation lag duration')\n",
    "# pl.ylabel('validators')\n",
    "\n",
    "validators_with_client_identified = validators[]\n",
    "\n",
    "df = pd.crosstab(pd.cut(validators_with_client['activation_lag'], 5), validators_with_client['client_identifier'])\n",
    "df.plot.bar(stacked=True)\n"
   ]
  },
  {
   "cell_type": "code",
   "execution_count": null,
   "metadata": {},
   "outputs": [],
   "source": []
  },
  {
   "cell_type": "code",
   "execution_count": null,
   "metadata": {},
   "outputs": [],
   "source": []
  },
  {
   "cell_type": "code",
   "execution_count": null,
   "metadata": {},
   "outputs": [],
   "source": []
  },
  {
   "cell_type": "markdown",
   "metadata": {},
   "source": [
    "## Exit Lag"
   ]
  },
  {
   "cell_type": "code",
   "execution_count": 7,
   "metadata": {},
   "outputs": [
    {
     "name": "stderr",
     "output_type": "stream",
     "text": [
      "<ipython-input-7-89e77cc53b09>:2: SettingWithCopyWarning: \n",
      "A value is trying to be set on a copy of a slice from a DataFrame.\n",
      "Try using .loc[row_indexer,col_indexer] = value instead\n",
      "\n",
      "See the caveats in the documentation: https://pandas.pydata.org/pandas-docs/stable/user_guide/indexing.html#returning-a-view-versus-a-copy\n",
      "  validators['exit_lag'] = validators['withdrawableepoch']  - validators['exitepoch']\n"
     ]
    },
    {
     "data": {
      "text/plain": [
       "Text(0, 0.5, 'validators')"
      ]
     },
     "execution_count": 7,
     "metadata": {},
     "output_type": "execute_result"
    },
    {
     "data": {
      "image/png": "[encoded data removed]",
      "text/plain": [
       "<Figure size 1008x288 with 1 Axes>"
      ]
     },
     "metadata": {
      "needs_background": "light"
     },
     "output_type": "display_data"
    }
   ],
   "source": [
    "#add exit lag\n",
    "validators['exit_lag'] = validators['withdrawableepoch']  - validators['exitepoch']\n",
    "#filter out entires at 0 and sort\n",
    "validators = validators.loc[validators['exit_lag'] > 10]\n",
    "validators.sort_values(by=['exit_lag'], ascending=False)\n",
    "#histogram\n",
    "#validators\n",
    "validators['exit_lag'].hist(bins=50, figsize=(14,4))\n",
    "pl.xlabel('exit lag duration')\n",
    "pl.ylabel('validators')"
   ]
  },
  {
   "cell_type": "code",
   "execution_count": 8,
   "metadata": {},
   "outputs": [
    {
     "data": {
      "text/plain": [
       "Text(0, 0.5, 'average_exit_lag_in_epochs')"
      ]
     },
     "execution_count": 8,
     "metadata": {},
     "output_type": "execute_result"
    },
    {
     "data": {
      "image/png": "[encoded data removed]",
      "text/plain": [
       "<Figure size 1008x288 with 1 Axes>"
      ]
     },
     "metadata": {
      "needs_background": "light"
     },
     "output_type": "display_data"
    }
   ],
   "source": [
    "# pivot for avg exit lag\n",
    "exit_lag_series = pd.pivot_table(validators, index=[\"exitepoch\"], values=[\"exit_lag\"], aggfunc='mean')\n",
    "exit_lag_series.index.name = None\n",
    "exit_lag_series['epoch'] = exit_lag_series.index\n",
    "#filter out entires at 0 and sort\n",
    "exit_lag_series = exit_lag_series.loc[exit_lag_series['exit_lag'] > 0]\n",
    "# plot time series\n",
    "exit_lag_series.plot(kind='line',x='epoch', y='exit_lag', figsize=(14,4))\n",
    "pl.xlabel(\"epoch\")\n",
    "pl.ylabel(\"average_exit_lag_in_epochs\")"
   ]
  },
  {
   "cell_type": "code",
   "execution_count": null,
   "metadata": {},
   "outputs": [],
   "source": []
  }
 ],
 "metadata": {
  "kernelspec": {
   "display_name": "Python 3",
   "language": "python",
   "name": "python3"
  },
  "language_info": {
   "codemirror_mode": {
    "name": "ipython",
    "version": 3
   },
   "file_extension": ".py",
   "mimetype": "text/x-python",
   "name": "python",
   "nbconvert_exporter": "python",
   "pygments_lexer": "ipython3",
   "version": "3.8.2"
  }
 },
 "nbformat": 4,
 "nbformat_minor": 4
}
