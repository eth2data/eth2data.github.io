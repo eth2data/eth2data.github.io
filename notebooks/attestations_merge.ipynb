{
 "cells": [
  {
   "cell_type": "code",
   "execution_count": 1,
   "metadata": {},
   "outputs": [
    {
     "name": "stdout",
     "output_type": "stream",
     "text": [
      "/Users/eliasimos/Desktop/attestations data\n"
     ]
    }
   ],
   "source": [
    "cd /Users/eliasimos/Desktop/attestations\\ data "
   ]
  },
  {
   "cell_type": "code",
   "execution_count": 2,
   "metadata": {},
   "outputs": [
    {
     "name": "stdout",
     "output_type": "stream",
     "text": [
      "active_validators_over_time.csv\n",
      "bc_block_attestations_numbers1.csv\n",
      "bc_block_attestations_numbers10.csv\n",
      "bc_block_attestations_numbers2.csv\n",
      "bc_block_attestations_numbers3.csv\n",
      "bc_block_attestations_numbers4.csv\n",
      "bc_block_attestations_numbers5.csv\n",
      "bc_block_attestations_numbers6.csv\n",
      "bc_block_attestations_numbers7.csv\n",
      "bc_block_attestations_numbers8.csv\n",
      "bc_block_attestations_numbers9.csv\n",
      "epoch_slot.csv\n",
      "ffg_requirement_per_slot.csv\n",
      "missed_slot_indices.csv\n",
      "orphaned_slot_indices.csv\n",
      "proposer_effectiveness.csv\n",
      "zero_atts_yet_proposed_slot_indices.csv\n"
     ]
    }
   ],
   "source": [
    "ls"
   ]
  },
  {
   "cell_type": "code",
   "execution_count": 3,
   "metadata": {},
   "outputs": [],
   "source": [
    "# load useful packages\n",
    "import pandas as pd\n",
    "import numpy as np\n",
    "import pylab as pl\n",
    "import matplotlib.pyplot as plt\n",
    "%matplotlib inline\n",
    "import seaborn as sns\n",
    "import statsmodels.api as sm\n",
    "# add seaborn viz\n",
    "sns.set()"
   ]
  },
  {
   "cell_type": "markdown",
   "metadata": {},
   "source": [
    "Load up all partitioned csvs"
   ]
  },
  {
   "cell_type": "code",
   "execution_count": 4,
   "metadata": {},
   "outputs": [
    {
     "data": {
      "text/html": [
       "<div>\n",
       "<style scoped>\n",
       "    .dataframe tbody tr th:only-of-type {\n",
       "        vertical-align: middle;\n",
       "    }\n",
       "\n",
       "    .dataframe tbody tr th {\n",
       "        vertical-align: top;\n",
       "    }\n",
       "\n",
       "    .dataframe thead th {\n",
       "        text-align: right;\n",
       "    }\n",
       "</style>\n",
       "<table border=\"1\" class=\"dataframe\">\n",
       "  <thead>\n",
       "    <tr style=\"text-align: right;\">\n",
       "      <th></th>\n",
       "      <th>id</th>\n",
       "      <th>input_slot</th>\n",
       "      <th>slot</th>\n",
       "      <th>block_slot</th>\n",
       "      <th>block_index</th>\n",
       "      <th>committeeindex</th>\n",
       "      <th>source_epoch</th>\n",
       "      <th>target_epoch</th>\n",
       "      <th>validators</th>\n",
       "    </tr>\n",
       "  </thead>\n",
       "  <tbody>\n",
       "    <tr>\n",
       "      <th>0</th>\n",
       "      <td>1</td>\n",
       "      <td>1</td>\n",
       "      <td>0</td>\n",
       "      <td>1</td>\n",
       "      <td>0</td>\n",
       "      <td>1</td>\n",
       "      <td>0</td>\n",
       "      <td>0</td>\n",
       "      <td>{2763,2256,11588,3679,7119,9906,6905,10792,457...</td>\n",
       "    </tr>\n",
       "    <tr>\n",
       "      <th>1</th>\n",
       "      <td>2</td>\n",
       "      <td>1</td>\n",
       "      <td>0</td>\n",
       "      <td>1</td>\n",
       "      <td>1</td>\n",
       "      <td>0</td>\n",
       "      <td>0</td>\n",
       "      <td>0</td>\n",
       "      <td>{2070,10370,11439,19300,15116,11514,19895,3443...</td>\n",
       "    </tr>\n",
       "    <tr>\n",
       "      <th>2</th>\n",
       "      <td>3</td>\n",
       "      <td>1</td>\n",
       "      <td>0</td>\n",
       "      <td>1</td>\n",
       "      <td>2</td>\n",
       "      <td>2</td>\n",
       "      <td>0</td>\n",
       "      <td>0</td>\n",
       "      <td>{19012,2994,3875,9963,8696,7033,11148,7006,139...</td>\n",
       "    </tr>\n",
       "    <tr>\n",
       "      <th>3</th>\n",
       "      <td>4</td>\n",
       "      <td>1</td>\n",
       "      <td>0</td>\n",
       "      <td>1</td>\n",
       "      <td>3</td>\n",
       "      <td>3</td>\n",
       "      <td>0</td>\n",
       "      <td>0</td>\n",
       "      <td>{9172,11101,14268,14207,15941,3072,9873,12303,...</td>\n",
       "    </tr>\n",
       "    <tr>\n",
       "      <th>4</th>\n",
       "      <td>5</td>\n",
       "      <td>1</td>\n",
       "      <td>0</td>\n",
       "      <td>1</td>\n",
       "      <td>4</td>\n",
       "      <td>2</td>\n",
       "      <td>0</td>\n",
       "      <td>0</td>\n",
       "      <td>{18136}</td>\n",
       "    </tr>\n",
       "  </tbody>\n",
       "</table>\n",
       "</div>"
      ],
      "text/plain": [
       "   id  input_slot  slot  block_slot  block_index  committeeindex  \\\n",
       "0   1           1     0           1            0               1   \n",
       "1   2           1     0           1            1               0   \n",
       "2   3           1     0           1            2               2   \n",
       "3   4           1     0           1            3               3   \n",
       "4   5           1     0           1            4               2   \n",
       "\n",
       "   source_epoch  target_epoch  \\\n",
       "0             0             0   \n",
       "1             0             0   \n",
       "2             0             0   \n",
       "3             0             0   \n",
       "4             0             0   \n",
       "\n",
       "                                          validators  \n",
       "0  {2763,2256,11588,3679,7119,9906,6905,10792,457...  \n",
       "1  {2070,10370,11439,19300,15116,11514,19895,3443...  \n",
       "2  {19012,2994,3875,9963,8696,7033,11148,7006,139...  \n",
       "3  {9172,11101,14268,14207,15941,3072,9873,12303,...  \n",
       "4                                            {18136}  "
      ]
     },
     "execution_count": 4,
     "metadata": {},
     "output_type": "execute_result"
    }
   ],
   "source": [
    "atts1 = pd.read_csv('bc_block_attestations_numbers1.csv')\n",
    "atts1.head()"
   ]
  },
  {
   "cell_type": "code",
   "execution_count": 5,
   "metadata": {},
   "outputs": [
    {
     "name": "stdout",
     "output_type": "stream",
     "text": [
      "<class 'pandas.core.frame.DataFrame'>\n",
      "RangeIndex: 315380 entries, 0 to 315379\n",
      "Data columns (total 9 columns):\n",
      " #   Column          Non-Null Count   Dtype \n",
      "---  ------          --------------   ----- \n",
      " 0   id              315380 non-null  int64 \n",
      " 1   input_slot      315380 non-null  int64 \n",
      " 2   slot            315380 non-null  int64 \n",
      " 3   block_slot      315380 non-null  int64 \n",
      " 4   block_index     315380 non-null  int64 \n",
      " 5   committeeindex  315380 non-null  int64 \n",
      " 6   source_epoch    315380 non-null  int64 \n",
      " 7   target_epoch    315380 non-null  int64 \n",
      " 8   validators      315380 non-null  object\n",
      "dtypes: int64(8), object(1)\n",
      "memory usage: 21.7+ MB\n"
     ]
    }
   ],
   "source": [
    "atts2 = pd.read_csv('bc_block_attestations_numbers2.csv')\n",
    "atts2.info()"
   ]
  },
  {
   "cell_type": "code",
   "execution_count": 6,
   "metadata": {},
   "outputs": [
    {
     "name": "stdout",
     "output_type": "stream",
     "text": [
      "<class 'pandas.core.frame.DataFrame'>\n",
      "RangeIndex: 1586461 entries, 0 to 1586460\n",
      "Data columns (total 9 columns):\n",
      " #   Column          Non-Null Count    Dtype \n",
      "---  ------          --------------    ----- \n",
      " 0   id              1586461 non-null  int64 \n",
      " 1   input_slot      1586461 non-null  int64 \n",
      " 2   slot            1586461 non-null  int64 \n",
      " 3   block_slot      1586461 non-null  int64 \n",
      " 4   block_index     1586461 non-null  int64 \n",
      " 5   committeeindex  1586461 non-null  int64 \n",
      " 6   source_epoch    1586461 non-null  int64 \n",
      " 7   target_epoch    1586461 non-null  int64 \n",
      " 8   validators      1586461 non-null  object\n",
      "dtypes: int64(8), object(1)\n",
      "memory usage: 108.9+ MB\n"
     ]
    }
   ],
   "source": [
    "atts3 = pd.read_csv('bc_block_attestations_numbers3.csv')\n",
    "atts3.info()"
   ]
  },
  {
   "cell_type": "code",
   "execution_count": 7,
   "metadata": {},
   "outputs": [
    {
     "name": "stdout",
     "output_type": "stream",
     "text": [
      "<class 'pandas.core.frame.DataFrame'>\n",
      "RangeIndex: 6040024 entries, 0 to 6040023\n",
      "Data columns (total 9 columns):\n",
      " #   Column          Dtype \n",
      "---  ------          ----- \n",
      " 0   id              int64 \n",
      " 1   input_slot      int64 \n",
      " 2   slot            int64 \n",
      " 3   block_slot      int64 \n",
      " 4   block_index     int64 \n",
      " 5   committeeindex  int64 \n",
      " 6   source_epoch    int64 \n",
      " 7   target_epoch    int64 \n",
      " 8   validators      object\n",
      "dtypes: int64(8), object(1)\n",
      "memory usage: 414.7+ MB\n"
     ]
    }
   ],
   "source": [
    "atts4 = pd.read_csv('bc_block_attestations_numbers4.csv')\n",
    "atts4.info()"
   ]
  },
  {
   "cell_type": "code",
   "execution_count": 8,
   "metadata": {},
   "outputs": [
    {
     "name": "stdout",
     "output_type": "stream",
     "text": [
      "<class 'pandas.core.frame.DataFrame'>\n",
      "RangeIndex: 47784 entries, 0 to 47783\n",
      "Data columns (total 9 columns):\n",
      " #   Column          Non-Null Count  Dtype \n",
      "---  ------          --------------  ----- \n",
      " 0   id              47784 non-null  int64 \n",
      " 1   input_slot      47784 non-null  int64 \n",
      " 2   slot            47784 non-null  int64 \n",
      " 3   block_slot      47784 non-null  int64 \n",
      " 4   block_index     47784 non-null  int64 \n",
      " 5   committeeindex  47784 non-null  int64 \n",
      " 6   source_epoch    47784 non-null  int64 \n",
      " 7   target_epoch    47784 non-null  int64 \n",
      " 8   validators      47784 non-null  object\n",
      "dtypes: int64(8), object(1)\n",
      "memory usage: 3.3+ MB\n"
     ]
    }
   ],
   "source": [
    "atts5 = pd.read_csv('bc_block_attestations_numbers5.csv')\n",
    "atts5.info()"
   ]
  },
  {
   "cell_type": "code",
   "execution_count": 9,
   "metadata": {},
   "outputs": [
    {
     "name": "stdout",
     "output_type": "stream",
     "text": [
      "<class 'pandas.core.frame.DataFrame'>\n",
      "RangeIndex: 1997412 entries, 0 to 1997411\n",
      "Data columns (total 9 columns):\n",
      " #   Column          Dtype \n",
      "---  ------          ----- \n",
      " 0   id              int64 \n",
      " 1   input_slot      int64 \n",
      " 2   slot            int64 \n",
      " 3   block_slot      int64 \n",
      " 4   block_index     int64 \n",
      " 5   committeeindex  int64 \n",
      " 6   source_epoch    int64 \n",
      " 7   target_epoch    int64 \n",
      " 8   validators      object\n",
      "dtypes: int64(8), object(1)\n",
      "memory usage: 137.2+ MB\n"
     ]
    }
   ],
   "source": [
    "atts6 = pd.read_csv('bc_block_attestations_numbers6.csv')\n",
    "atts6.info()"
   ]
  },
  {
   "cell_type": "code",
   "execution_count": 10,
   "metadata": {},
   "outputs": [
    {
     "name": "stdout",
     "output_type": "stream",
     "text": [
      "<class 'pandas.core.frame.DataFrame'>\n",
      "RangeIndex: 554306 entries, 0 to 554305\n",
      "Data columns (total 9 columns):\n",
      " #   Column          Non-Null Count   Dtype \n",
      "---  ------          --------------   ----- \n",
      " 0   id              554306 non-null  int64 \n",
      " 1   input_slot      554306 non-null  int64 \n",
      " 2   slot            554306 non-null  int64 \n",
      " 3   block_slot      554306 non-null  int64 \n",
      " 4   block_index     554306 non-null  int64 \n",
      " 5   committeeindex  554306 non-null  int64 \n",
      " 6   source_epoch    554306 non-null  int64 \n",
      " 7   target_epoch    554306 non-null  int64 \n",
      " 8   validators      554306 non-null  object\n",
      "dtypes: int64(8), object(1)\n",
      "memory usage: 38.1+ MB\n"
     ]
    }
   ],
   "source": [
    "atts7 = pd.read_csv('bc_block_attestations_numbers7.csv')\n",
    "atts7.info()"
   ]
  },
  {
   "cell_type": "code",
   "execution_count": 11,
   "metadata": {},
   "outputs": [
    {
     "name": "stdout",
     "output_type": "stream",
     "text": [
      "<class 'pandas.core.frame.DataFrame'>\n",
      "RangeIndex: 296266 entries, 0 to 296265\n",
      "Data columns (total 9 columns):\n",
      " #   Column          Non-Null Count   Dtype \n",
      "---  ------          --------------   ----- \n",
      " 0   id              296266 non-null  int64 \n",
      " 1   input_slot      296266 non-null  int64 \n",
      " 2   slot            296266 non-null  int64 \n",
      " 3   block_slot      296266 non-null  int64 \n",
      " 4   block_index     296266 non-null  int64 \n",
      " 5   committeeindex  296266 non-null  int64 \n",
      " 6   source_epoch    296266 non-null  int64 \n",
      " 7   target_epoch    296266 non-null  int64 \n",
      " 8   validators      296266 non-null  object\n",
      "dtypes: int64(8), object(1)\n",
      "memory usage: 20.3+ MB\n"
     ]
    }
   ],
   "source": [
    "atts8 = pd.read_csv('bc_block_attestations_numbers8.csv')\n",
    "atts8.info()"
   ]
  },
  {
   "cell_type": "code",
   "execution_count": 12,
   "metadata": {},
   "outputs": [
    {
     "name": "stdout",
     "output_type": "stream",
     "text": [
      "<class 'pandas.core.frame.DataFrame'>\n",
      "RangeIndex: 4491789 entries, 0 to 4491788\n",
      "Data columns (total 9 columns):\n",
      " #   Column          Dtype \n",
      "---  ------          ----- \n",
      " 0   id              int64 \n",
      " 1   input_slot      int64 \n",
      " 2   slot            int64 \n",
      " 3   block_slot      int64 \n",
      " 4   block_index     int64 \n",
      " 5   committeeindex  int64 \n",
      " 6   source_epoch    int64 \n",
      " 7   target_epoch    int64 \n",
      " 8   validators      object\n",
      "dtypes: int64(8), object(1)\n",
      "memory usage: 308.4+ MB\n"
     ]
    }
   ],
   "source": [
    "atts9 = pd.read_csv('bc_block_attestations_numbers9.csv')\n",
    "atts9.info()"
   ]
  },
  {
   "cell_type": "code",
   "execution_count": 13,
   "metadata": {},
   "outputs": [
    {
     "name": "stdout",
     "output_type": "stream",
     "text": [
      "<class 'pandas.core.frame.DataFrame'>\n",
      "RangeIndex: 1250870 entries, 0 to 1250869\n",
      "Data columns (total 9 columns):\n",
      " #   Column          Non-Null Count    Dtype \n",
      "---  ------          --------------    ----- \n",
      " 0   id              1250870 non-null  int64 \n",
      " 1   input_slot      1250870 non-null  int64 \n",
      " 2   slot            1250870 non-null  int64 \n",
      " 3   block_slot      1250870 non-null  int64 \n",
      " 4   block_index     1250870 non-null  int64 \n",
      " 5   committeeindex  1250870 non-null  int64 \n",
      " 6   source_epoch    1250870 non-null  int64 \n",
      " 7   target_epoch    1250870 non-null  int64 \n",
      " 8   validators      1250870 non-null  object\n",
      "dtypes: int64(8), object(1)\n",
      "memory usage: 85.9+ MB\n"
     ]
    }
   ],
   "source": [
    "atts10 = pd.read_csv('bc_block_attestations_numbers10.csv')\n",
    "atts10.info()"
   ]
  },
  {
   "cell_type": "markdown",
   "metadata": {},
   "source": [
    "Now append the tables one below the other"
   ]
  },
  {
   "cell_type": "code",
   "execution_count": 14,
   "metadata": {},
   "outputs": [],
   "source": [
    "# concatenate the datasets\n",
    "atts_whole = pd.concat([atts1, atts2, atts3, atts4, atts5, atts6, atts7, atts8, atts9, atts10], axis=0, join='outer', ignore_index=False)\n",
    "atts_whole.sort_values(by=['input_slot'],  inplace=True)"
   ]
  },
  {
   "cell_type": "code",
   "execution_count": 15,
   "metadata": {},
   "outputs": [
    {
     "data": {
      "text/html": [
       "<div>\n",
       "<style scoped>\n",
       "    .dataframe tbody tr th:only-of-type {\n",
       "        vertical-align: middle;\n",
       "    }\n",
       "\n",
       "    .dataframe tbody tr th {\n",
       "        vertical-align: top;\n",
       "    }\n",
       "\n",
       "    .dataframe thead th {\n",
       "        text-align: right;\n",
       "    }\n",
       "</style>\n",
       "<table border=\"1\" class=\"dataframe\">\n",
       "  <thead>\n",
       "    <tr style=\"text-align: right;\">\n",
       "      <th></th>\n",
       "      <th>id</th>\n",
       "      <th>input_slot</th>\n",
       "      <th>slot</th>\n",
       "      <th>block_slot</th>\n",
       "      <th>block_index</th>\n",
       "      <th>committeeindex</th>\n",
       "      <th>source_epoch</th>\n",
       "      <th>target_epoch</th>\n",
       "      <th>validators</th>\n",
       "    </tr>\n",
       "  </thead>\n",
       "  <tbody>\n",
       "    <tr>\n",
       "      <th>0</th>\n",
       "      <td>1</td>\n",
       "      <td>1</td>\n",
       "      <td>0</td>\n",
       "      <td>1</td>\n",
       "      <td>0</td>\n",
       "      <td>1</td>\n",
       "      <td>0</td>\n",
       "      <td>0</td>\n",
       "      <td>{2763,2256,11588,3679,7119,9906,6905,10792,457...</td>\n",
       "    </tr>\n",
       "    <tr>\n",
       "      <th>1</th>\n",
       "      <td>2</td>\n",
       "      <td>1</td>\n",
       "      <td>0</td>\n",
       "      <td>1</td>\n",
       "      <td>1</td>\n",
       "      <td>0</td>\n",
       "      <td>0</td>\n",
       "      <td>0</td>\n",
       "      <td>{2070,10370,11439,19300,15116,11514,19895,3443...</td>\n",
       "    </tr>\n",
       "    <tr>\n",
       "      <th>2</th>\n",
       "      <td>3</td>\n",
       "      <td>1</td>\n",
       "      <td>0</td>\n",
       "      <td>1</td>\n",
       "      <td>2</td>\n",
       "      <td>2</td>\n",
       "      <td>0</td>\n",
       "      <td>0</td>\n",
       "      <td>{19012,2994,3875,9963,8696,7033,11148,7006,139...</td>\n",
       "    </tr>\n",
       "    <tr>\n",
       "      <th>3</th>\n",
       "      <td>4</td>\n",
       "      <td>1</td>\n",
       "      <td>0</td>\n",
       "      <td>1</td>\n",
       "      <td>3</td>\n",
       "      <td>3</td>\n",
       "      <td>0</td>\n",
       "      <td>0</td>\n",
       "      <td>{9172,11101,14268,14207,15941,3072,9873,12303,...</td>\n",
       "    </tr>\n",
       "    <tr>\n",
       "      <th>4</th>\n",
       "      <td>5</td>\n",
       "      <td>1</td>\n",
       "      <td>0</td>\n",
       "      <td>1</td>\n",
       "      <td>4</td>\n",
       "      <td>2</td>\n",
       "      <td>0</td>\n",
       "      <td>0</td>\n",
       "      <td>{18136}</td>\n",
       "    </tr>\n",
       "    <tr>\n",
       "      <th>...</th>\n",
       "      <td>...</td>\n",
       "      <td>...</td>\n",
       "      <td>...</td>\n",
       "      <td>...</td>\n",
       "      <td>...</td>\n",
       "      <td>...</td>\n",
       "      <td>...</td>\n",
       "      <td>...</td>\n",
       "      <td>...</td>\n",
       "    </tr>\n",
       "    <tr>\n",
       "      <th>1250812</th>\n",
       "      <td>20928814</td>\n",
       "      <td>466334</td>\n",
       "      <td>466333</td>\n",
       "      <td>466334</td>\n",
       "      <td>23</td>\n",
       "      <td>11</td>\n",
       "      <td>14571</td>\n",
       "      <td>14572</td>\n",
       "      <td>{40030,71699,5823,43797,49506,69438,8189,42313...</td>\n",
       "    </tr>\n",
       "    <tr>\n",
       "      <th>1250811</th>\n",
       "      <td>20928813</td>\n",
       "      <td>466334</td>\n",
       "      <td>466333</td>\n",
       "      <td>466334</td>\n",
       "      <td>22</td>\n",
       "      <td>6</td>\n",
       "      <td>14571</td>\n",
       "      <td>14572</td>\n",
       "      <td>{55176,47314,13871,40735,66883,7363,62498,7064...</td>\n",
       "    </tr>\n",
       "    <tr>\n",
       "      <th>1250810</th>\n",
       "      <td>20928812</td>\n",
       "      <td>466334</td>\n",
       "      <td>466333</td>\n",
       "      <td>466334</td>\n",
       "      <td>21</td>\n",
       "      <td>6</td>\n",
       "      <td>14571</td>\n",
       "      <td>14572</td>\n",
       "      <td>{55176,47314,13871,40735,66883,7363,62498,7064...</td>\n",
       "    </tr>\n",
       "    <tr>\n",
       "      <th>1250808</th>\n",
       "      <td>20928810</td>\n",
       "      <td>466334</td>\n",
       "      <td>466333</td>\n",
       "      <td>466334</td>\n",
       "      <td>19</td>\n",
       "      <td>13</td>\n",
       "      <td>14571</td>\n",
       "      <td>14572</td>\n",
       "      <td>{55310,66830,56222,44284,72490,20697,38693,705...</td>\n",
       "    </tr>\n",
       "    <tr>\n",
       "      <th>1250869</th>\n",
       "      <td>20928871</td>\n",
       "      <td>466334</td>\n",
       "      <td>466314</td>\n",
       "      <td>466334</td>\n",
       "      <td>80</td>\n",
       "      <td>4</td>\n",
       "      <td>14571</td>\n",
       "      <td>14572</td>\n",
       "      <td>{49042,49147,25216,37784,38368,20237,69400,660...</td>\n",
       "    </tr>\n",
       "  </tbody>\n",
       "</table>\n",
       "<p>20928726 rows × 9 columns</p>\n",
       "</div>"
      ],
      "text/plain": [
       "               id  input_slot    slot  block_slot  block_index  \\\n",
       "0               1           1       0           1            0   \n",
       "1               2           1       0           1            1   \n",
       "2               3           1       0           1            2   \n",
       "3               4           1       0           1            3   \n",
       "4               5           1       0           1            4   \n",
       "...           ...         ...     ...         ...          ...   \n",
       "1250812  20928814      466334  466333      466334           23   \n",
       "1250811  20928813      466334  466333      466334           22   \n",
       "1250810  20928812      466334  466333      466334           21   \n",
       "1250808  20928810      466334  466333      466334           19   \n",
       "1250869  20928871      466334  466314      466334           80   \n",
       "\n",
       "         committeeindex  source_epoch  target_epoch  \\\n",
       "0                     1             0             0   \n",
       "1                     0             0             0   \n",
       "2                     2             0             0   \n",
       "3                     3             0             0   \n",
       "4                     2             0             0   \n",
       "...                 ...           ...           ...   \n",
       "1250812              11         14571         14572   \n",
       "1250811               6         14571         14572   \n",
       "1250810               6         14571         14572   \n",
       "1250808              13         14571         14572   \n",
       "1250869               4         14571         14572   \n",
       "\n",
       "                                                validators  \n",
       "0        {2763,2256,11588,3679,7119,9906,6905,10792,457...  \n",
       "1        {2070,10370,11439,19300,15116,11514,19895,3443...  \n",
       "2        {19012,2994,3875,9963,8696,7033,11148,7006,139...  \n",
       "3        {9172,11101,14268,14207,15941,3072,9873,12303,...  \n",
       "4                                                  {18136}  \n",
       "...                                                    ...  \n",
       "1250812  {40030,71699,5823,43797,49506,69438,8189,42313...  \n",
       "1250811  {55176,47314,13871,40735,66883,7363,62498,7064...  \n",
       "1250810  {55176,47314,13871,40735,66883,7363,62498,7064...  \n",
       "1250808  {55310,66830,56222,44284,72490,20697,38693,705...  \n",
       "1250869  {49042,49147,25216,37784,38368,20237,69400,660...  \n",
       "\n",
       "[20928726 rows x 9 columns]"
      ]
     },
     "execution_count": 15,
     "metadata": {},
     "output_type": "execute_result"
    }
   ],
   "source": [
    "atts_whole\n",
    "# time taken - 00:02:40:00"
   ]
  },
  {
   "cell_type": "code",
   "execution_count": null,
   "metadata": {},
   "outputs": [],
   "source": [
    "# search for duplicates - there should be none\n",
    "duplicate_rows = atts_whole[atts_whole.duplicated()]\n",
    "duplicate_rows\n",
    "# time taken - 01:07:25:00 and not finished"
   ]
  },
  {
   "cell_type": "code",
   "execution_count": null,
   "metadata": {},
   "outputs": [],
   "source": [
    "# single out slots\n",
    "input_slot = atts_whole.filter(['input_slot'], axis=1)\n",
    "input_slot = input_slot['input_slot'].to_list()"
   ]
  },
  {
   "cell_type": "code",
   "execution_count": null,
   "metadata": {},
   "outputs": [],
   "source": [
    "# program to Find missing integers in list \n",
    "def find_missing(lst): \n",
    "    start = lst[0] \n",
    "    end = lst[-1] \n",
    "    return sorted(set(range(start, end + 1)).difference(lst)) \n",
    "# driver code \n",
    "lst = input_slot \n",
    "# print(find_missing(lst))\n",
    "missing_slots = pd.DataFrame(find_missing(lst), columns=['missing_slots'])\n",
    "missing_slots"
   ]
  },
  {
   "cell_type": "code",
   "execution_count": null,
   "metadata": {},
   "outputs": [],
   "source": [
    "# load up a df with all the missed slots in the main dataset\n",
    "missed_slot_indices = pd.read_csv('missed_slot_indices.csv')\n",
    "missed_slot_indices = missed_slot_indices.loc[missed_slot_indices['slot'] < 466335]\n",
    "missed_slot_indices.drop(columns=['Unnamed: 0'])"
   ]
  },
  {
   "cell_type": "code",
   "execution_count": null,
   "metadata": {},
   "outputs": [],
   "source": [
    "# check \n",
    "missing_slots_comps_1 = pd.merge(left=missing_slots, right=missed_slot_indices, how='left', left_on='missing_slots', right_on='slot')\n",
    "missing_slots_comps_1['check'] = missing_slots_comps_1['missing_slots'] - missing_slots_comps_1['slot']\n",
    "missing_slots_comps_1 = missing_slots_comps_1.loc[missing_slots_comps_1['check'] != 0]\n",
    "missing_slots_comps_1.drop(columns=['Unnamed: 0', 'slot', 'status'])"
   ]
  },
  {
   "cell_type": "code",
   "execution_count": null,
   "metadata": {},
   "outputs": [],
   "source": [
    "# load up a df with all the orphaned slots in the main dataset\n",
    "orphaned_slot_indices = pd.read_csv('orphaned_slot_indices.csv')\n",
    "orphaned_slot_indices = orphaned_slot_indices.loc[missed_slot_indices['slot'] < 466335]\n",
    "orphaned_slot_indices.drop(columns=['Unnamed: 0'])"
   ]
  },
  {
   "cell_type": "code",
   "execution_count": null,
   "metadata": {},
   "outputs": [],
   "source": [
    "# check \n",
    "missing_slots_comps_2 = pd.merge(left=missing_slots_comps_1, right=orphaned_slot_indices, how='left', left_on='missing_slots', right_on='slot')\n",
    "#missing_slots_comps_1['check'] = missing_slots_comps_1['missing_slots'] - missing_slots_comps_1['slot']\n",
    "missing_slots_comps_2 = missing_slots_comps_2.loc[missing_slots_comps_2['status_y'] != 'orphaned']\n",
    "missing_slots_comps_2 = missing_slots_comps_2.drop(columns=['Unnamed: 0_x', 'slot_x', 'status_x', 'check', 'Unnamed: 0_y', 'slot_y', 'status_y'])\n",
    "missing_slots_comps_2"
   ]
  },
  {
   "cell_type": "code",
   "execution_count": null,
   "metadata": {},
   "outputs": [],
   "source": [
    "# load up a df with all the 0 attestations yet proposed slots in the main dataset\n",
    "zero_atts_yet_proposed_slot_indices = pd.read_csv('zero_atts_yet_proposed_slot_indices.csv')\n",
    "zero_atts_yet_proposed_slot_indices = zero_atts_yet_proposed_slot_indices.loc[zero_atts_yet_proposed_slot_indices['slot'] < 466335]\n",
    "zero_atts_yet_proposed_slot_indices = zero_atts_yet_proposed_slot_indices.loc[zero_atts_yet_proposed_slot_indices['slot'] > 0]\n",
    "zero_atts_yet_proposed_slot_indices.drop(columns=['Unnamed: 0'])"
   ]
  },
  {
   "cell_type": "code",
   "execution_count": null,
   "metadata": {},
   "outputs": [],
   "source": [
    "# check \n",
    "missing_slots_comps_3 = pd.merge(left=missing_slots_comps_2, right=zero_atts_yet_proposed_slot_indices, how='left', left_on='missing_slots', right_on='slot')\n",
    "missing_slots_comps_3['check'] = missing_slots_comps_3['missing_slots'] - missing_slots_comps_3['slot']\n",
    "#missing_slots_comps_3 = missing_slots_comps_3.loc[missing_slots_comps_2['status_y'] != 'orphaned']\n",
    "missing_slots_comps_3 = missing_slots_comps_3.drop(columns=['Unnamed: 0', 'slot', 'status', 'attestationscount'])\n",
    "missing_slots_comps_3 = missing_slots_comps_3.loc[missing_slots_comps_3['check'] != 0]\n",
    "missing_slots_comps_3"
   ]
  },
  {
   "cell_type": "code",
   "execution_count": null,
   "metadata": {},
   "outputs": [],
   "source": [
    "#combine all 3 missing cases\n",
    "missing_slots_whole = pd.concat([missed_slot_indices, orphaned_slot_indices, zero_atts_yet_proposed_slot_indices], axis=0, join='outer', ignore_index=False)\n",
    "missing_slots_whole = missing_slots_whole.drop(columns=['Unnamed: 0', 'attestationscount'])\n",
    "missing_slots_whole = missing_slots_whole.rename(columns={'slot':'input_slot'})\n",
    "missing_slots_whole"
   ]
  },
  {
   "cell_type": "code",
   "execution_count": null,
   "metadata": {},
   "outputs": [],
   "source": [
    "# add status column to atts whole\n",
    "atts_whole['status'] = 'proposed'\n",
    "atts_whole.tail(1)"
   ]
  },
  {
   "cell_type": "code",
   "execution_count": null,
   "metadata": {},
   "outputs": [],
   "source": [
    "# concat the two sets\n",
    "atts_whole_final = pd.concat([atts_whole, missing_slots_whole], axis=0, join='outer', ignore_index=False)\n",
    "atts_whole_final_check = atts_whole_final.loc[atts_whole_final['input_slot'] == 2]\n",
    "atts_whole_final_check"
   ]
  },
  {
   "cell_type": "code",
   "execution_count": null,
   "metadata": {},
   "outputs": [],
   "source": [
    "atts_whole_final_check.info()"
   ]
  },
  {
   "cell_type": "code",
   "execution_count": null,
   "metadata": {},
   "outputs": [],
   "source": []
  }
 ],
 "metadata": {
  "kernelspec": {
   "display_name": "Python 3",
   "language": "python",
   "name": "python3"
  },
  "language_info": {
   "codemirror_mode": {
    "name": "ipython",
    "version": 3
   },
   "file_extension": ".py",
   "mimetype": "text/x-python",
   "name": "python",
   "nbconvert_exporter": "python",
   "pygments_lexer": "ipython3",
   "version": "3.8.3"
  }
 },
 "nbformat": 4,
 "nbformat_minor": 4
}
